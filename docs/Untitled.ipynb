{
 "cells": [
  {
   "cell_type": "code",
   "execution_count": null,
   "metadata": {},
   "outputs": [],
   "source": []
  },
  {
   "cell_type": "code",
   "execution_count": 1,
   "metadata": {},
   "outputs": [],
   "source": [
    "%%capture\n",
    "%matplotlib inline\n",
    "import numpy as np\n",
    "import sympy as sp\n",
    "import matplotlib.pyplot as plt\n",
    "import math\n",
    "import unittest\n",
    "\n",
    "# To get equations the look like, well, equations, use the following.\n",
    "from sympy.interactive import printing\n",
    "printing.init_printing(use_latex=True)\n",
    "from IPython.display import display\n",
    "\n",
    "# Tools for manipulating quaternions written by D. Sweetser.\n",
    "from QH import QH;\n",
    "\n",
    "from IPython.core.display import display, HTML, Math, Latex\n",
    "display(HTML(\"<style>.container { width:100% !important; }</style>\"))"
   ]
  },
  {
   "cell_type": "code",
   "execution_count": 3,
   "metadata": {},
   "outputs": [],
   "source": [
    "t, x, y, z = sp.symbols(\"t x y z\")\n",
    "txyz = QH([t, x, y, z])\n",
    "u = QH([0, x - y, x + y, 2 * z])"
   ]
  },
  {
   "cell_type": "code",
   "execution_count": 4,
   "metadata": {},
   "outputs": [
    {
     "name": "stdout",
     "output_type": "stream",
     "text": [
      "u * txyz\n"
     ]
    },
    {
     "data": {
      "image/png": "[encoded data removed]",
      "text/latex": [
       "$\\displaystyle - x \\left(x - y\\right) - y \\left(x + y\\right) - 2 z^{2}$"
      ],
      "text/plain": [
       "                            2\n",
       "-x⋅(x - y) - y⋅(x + y) - 2⋅z "
      ]
     },
     "metadata": {},
     "output_type": "display_data"
    },
    {
     "data": {
      "image/png": "[encoded data removed]",
      "text/latex": [
       "$\\displaystyle t \\left(x - y\\right) - 2 y z + z \\left(x + y\\right)$"
      ],
      "text/plain": [
       "t⋅(x - y) - 2⋅y⋅z + z⋅(x + y)"
      ]
     },
     "metadata": {},
     "output_type": "display_data"
    },
    {
     "data": {
      "image/png": "[encoded data removed]",
      "text/latex": [
       "$\\displaystyle t \\left(x + y\\right) + 2 x z - z \\left(x - y\\right)$"
      ],
      "text/plain": [
       "t⋅(x + y) + 2⋅x⋅z - z⋅(x - y)"
      ]
     },
     "metadata": {},
     "output_type": "display_data"
    },
    {
     "data": {
      "image/png": "[encoded data removed]",
      "text/latex": [
       "$\\displaystyle 2 t z - x \\left(x + y\\right) + y \\left(x - y\\right)$"
      ],
      "text/plain": [
       "2⋅t⋅z - x⋅(x + y) + y⋅(x - y)"
      ]
     },
     "metadata": {},
     "output_type": "display_data"
    },
    {
     "name": "stdout",
     "output_type": "stream",
     "text": [
      "u * txyz\n"
     ]
    },
    {
     "data": {
      "image/png": "[encoded data removed]",
      "text/latex": [
       "$\\displaystyle - x^{2} - y^{2} - 2 z^{2}$"
      ],
      "text/plain": [
       "   2    2      2\n",
       "- x  - y  - 2⋅z "
      ]
     },
     "metadata": {},
     "output_type": "display_data"
    },
    {
     "data": {
      "image/png": "[encoded data removed]",
      "text/latex": [
       "$\\displaystyle t x - t y + x z - y z$"
      ],
      "text/plain": [
       "t⋅x - t⋅y + x⋅z - y⋅z"
      ]
     },
     "metadata": {},
     "output_type": "display_data"
    },
    {
     "data": {
      "image/png": "[encoded data removed]",
      "text/latex": [
       "$\\displaystyle t x + t y + x z + y z$"
      ],
      "text/plain": [
       "t⋅x + t⋅y + x⋅z + y⋅z"
      ]
     },
     "metadata": {},
     "output_type": "display_data"
    },
    {
     "data": {
      "image/png": "[encoded data removed]",
      "text/latex": [
       "$\\displaystyle 2 t z - x^{2} - y^{2}$"
      ],
      "text/plain": [
       "         2    2\n",
       "2⋅t⋅z - x  - y "
      ]
     },
     "metadata": {},
     "output_type": "display_data"
    },
    {
     "name": "stdout",
     "output_type": "stream",
     "text": [
      "u * txyz * u*\n"
     ]
    },
    {
     "data": {
      "image/png": "[encoded data removed]",
      "text/latex": [
       "$\\displaystyle 2 z \\left(2 t z - x \\left(x + y\\right) + y \\left(x - y\\right)\\right) - \\left(- x - y\\right) \\left(t \\left(x + y\\right) + 2 x z - z \\left(x - y\\right)\\right) - \\left(- x + y\\right) \\left(t \\left(x - y\\right) - 2 y z + z \\left(x + y\\right)\\right)$"
      ],
      "text/plain": [
       "2⋅z⋅(2⋅t⋅z - x⋅(x + y) + y⋅(x - y)) - (-x - y)⋅(t⋅(x + y) + 2⋅x⋅z - z⋅(x - y))\n",
       " - (-x + y)⋅(t⋅(x - y) - 2⋅y⋅z + z⋅(x + y))"
      ]
     },
     "metadata": {},
     "output_type": "display_data"
    },
    {
     "data": {
      "image/png": "[encoded data removed]",
      "text/latex": [
       "$\\displaystyle - 2 z \\left(t \\left(x + y\\right) + 2 x z - z \\left(x - y\\right)\\right) - \\left(- x - y\\right) \\left(2 t z - x \\left(x + y\\right) + y \\left(x - y\\right)\\right) + \\left(- x + y\\right) \\left(- x \\left(x - y\\right) - y \\left(x + y\\right) - 2 z^{2}\\right)$"
      ],
      "text/plain": [
       "                                                                              \n",
       "-2⋅z⋅(t⋅(x + y) + 2⋅x⋅z - z⋅(x - y)) - (-x - y)⋅(2⋅t⋅z - x⋅(x + y) + y⋅(x - y)\n",
       "\n",
       "             ⎛                            2⎞\n",
       ") + (-x + y)⋅⎝-x⋅(x - y) - y⋅(x + y) - 2⋅z ⎠"
      ]
     },
     "metadata": {},
     "output_type": "display_data"
    },
    {
     "data": {
      "image/png": "[encoded data removed]",
      "text/latex": [
       "$\\displaystyle 2 z \\left(t \\left(x - y\\right) - 2 y z + z \\left(x + y\\right)\\right) + \\left(- x - y\\right) \\left(- x \\left(x - y\\right) - y \\left(x + y\\right) - 2 z^{2}\\right) + \\left(- x + y\\right) \\left(2 t z - x \\left(x + y\\right) + y \\left(x - y\\right)\\right)$"
      ],
      "text/plain": [
       "                                               ⎛                            2⎞\n",
       "2⋅z⋅(t⋅(x - y) - 2⋅y⋅z + z⋅(x + y)) + (-x - y)⋅⎝-x⋅(x - y) - y⋅(x + y) - 2⋅z ⎠\n",
       "\n",
       "                                           \n",
       " + (-x + y)⋅(2⋅t⋅z - x⋅(x + y) + y⋅(x - y))"
      ]
     },
     "metadata": {},
     "output_type": "display_data"
    },
    {
     "data": {
      "image/png": "[encoded data removed]",
      "text/latex": [
       "$\\displaystyle - 2 z \\left(- x \\left(x - y\\right) - y \\left(x + y\\right) - 2 z^{2}\\right) + \\left(- x - y\\right) \\left(t \\left(x - y\\right) - 2 y z + z \\left(x + y\\right)\\right) - \\left(- x + y\\right) \\left(t \\left(x + y\\right) + 2 x z - z \\left(x - y\\right)\\right)$"
      ],
      "text/plain": [
       "      ⎛                            2⎞                                         \n",
       "- 2⋅z⋅⎝-x⋅(x - y) - y⋅(x + y) - 2⋅z ⎠ + (-x - y)⋅(t⋅(x - y) - 2⋅y⋅z + z⋅(x + y\n",
       "\n",
       "                                             \n",
       ")) - (-x + y)⋅(t⋅(x + y) + 2⋅x⋅z - z⋅(x - y))"
      ]
     },
     "metadata": {},
     "output_type": "display_data"
    },
    {
     "name": "stdout",
     "output_type": "stream",
     "text": [
      "u * txyz * uc\n"
     ]
    },
    {
     "data": {
      "image/png": "[encoded data removed]",
      "text/latex": [
       "$\\displaystyle 2 t \\left(x^{2} + y^{2} + 2 z^{2}\\right)$"
      ],
      "text/plain": [
       "    ⎛ 2    2      2⎞\n",
       "2⋅t⋅⎝x  + y  + 2⋅z ⎠"
      ]
     },
     "metadata": {},
     "output_type": "display_data"
    },
    {
     "data": {
      "image/png": "[encoded data removed]",
      "text/latex": [
       "$\\displaystyle - 2 y \\left(x^{2} + y^{2} + 2 z^{2}\\right)$"
      ],
      "text/plain": [
       "     ⎛ 2    2      2⎞\n",
       "-2⋅y⋅⎝x  + y  + 2⋅z ⎠"
      ]
     },
     "metadata": {},
     "output_type": "display_data"
    },
    {
     "data": {
      "image/png": "[encoded data removed]",
      "text/latex": [
       "$\\displaystyle 2 x \\left(x^{2} + y^{2} + 2 z^{2}\\right)$"
      ],
      "text/plain": [
       "    ⎛ 2    2      2⎞\n",
       "2⋅x⋅⎝x  + y  + 2⋅z ⎠"
      ]
     },
     "metadata": {},
     "output_type": "display_data"
    },
    {
     "data": {
      "image/png": "[encoded data removed]",
      "text/latex": [
       "$\\displaystyle 2 z \\left(x^{2} + y^{2} + 2 z^{2}\\right)$"
      ],
      "text/plain": [
       "    ⎛ 2    2      2⎞\n",
       "2⋅z⋅⎝x  + y  + 2⋅z ⎠"
      ]
     },
     "metadata": {},
     "output_type": "display_data"
    }
   ],
   "source": [
    "utxyz = u.product(txyz)\n",
    "utxyz_uc = utxyz.product(u.conj())\n",
    "utxyz.display_q(\"u * txyz\")\n",
    "utxyz.simple_q().display_q(\"u * txyz\")\n",
    "\n",
    "utxyz_uc.display_q(\"u * txyz * u*\")\n",
    "utxyz_uc.simple_q().display_q(\"u * txyz * uc\")"
   ]
  },
  {
   "cell_type": "code",
   "execution_count": null,
   "metadata": {},
   "outputs": [],
   "source": []
  }
 ],
 "metadata": {
  "kernelspec": {
   "display_name": "Python 3",
   "language": "python",
   "name": "python3"
  },
  "language_info": {
   "codemirror_mode": {
    "name": "ipython",
    "version": 3
   },
   "file_extension": ".py",
   "mimetype": "text/x-python",
   "name": "python",
   "nbconvert_exporter": "python",
   "pygments_lexer": "ipython3",
   "version": "3.7.3"
  }
 },
 "nbformat": 4,
 "nbformat_minor": 4
}
