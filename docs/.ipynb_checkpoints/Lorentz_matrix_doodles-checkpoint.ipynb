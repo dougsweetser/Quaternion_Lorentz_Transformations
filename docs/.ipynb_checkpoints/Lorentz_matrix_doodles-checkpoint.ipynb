{
 "cells": [
  {
   "cell_type": "markdown",
   "metadata": {},
   "source": [
    "# Lorentz matrix doodles"
   ]
  },
  {
   "cell_type": "markdown",
   "metadata": {},
   "source": [
    "Idea: see what it takes to do things \"just like a Lorentz matrix.\""
   ]
  },
  {
   "cell_type": "code",
   "execution_count": 1,
   "metadata": {},
   "outputs": [],
   "source": [
    "%%capture\n",
    "%matplotlib inline\n",
    "import numpy as np\n",
    "import sympy as sp\n",
    "import matplotlib.pyplot as plt\n",
    "import math\n",
    "import unittest\n",
    "from copy import deepcopy\n",
    "import pudb\n",
    "\n",
    "# To get equations the look like, well, equations, use the following.\n",
    "from sympy.interactive import printing\n",
    "printing.init_printing(use_latex=True)\n",
    "from IPython.display import display\n",
    "\n",
    "# Tools for manipulating quaternions written by D. Sweetser.\n",
    "from QH import QH, QHStates\n",
    "\n",
    "from IPython.core.display import display, HTML, Math, Latex\n",
    "display(HTML(\"<style>.container { width:100% !important; }</style>\"))"
   ]
  },
  {
   "cell_type": "code",
   "execution_count": 2,
   "metadata": {},
   "outputs": [],
   "source": [
    "t, x, y, z = sp.symbols(\"t x y z\")"
   ]
  },
  {
   "cell_type": "code",
   "execution_count": 3,
   "metadata": {},
   "outputs": [],
   "source": [
    "v_txyz = sp.Matrix([t,x,y,z])"
   ]
  },
  {
   "cell_type": "code",
   "execution_count": 4,
   "metadata": {},
   "outputs": [
    {
     "data": {
      "image/png": "[encoded data removed]",
      "text/latex": [
       "$\\displaystyle \\left[\\begin{matrix}1 & 0 & 0 & 0\\\\0 & 0 & -1 & 0\\\\0 & 1 & 0 & 0\\\\0 & 0 & 0 & 1\\end{matrix}\\right]$"
      ],
      "text/plain": [
       "⎡1  0  0   0⎤\n",
       "⎢           ⎥\n",
       "⎢0  0  -1  0⎥\n",
       "⎢           ⎥\n",
       "⎢0  1  0   0⎥\n",
       "⎢           ⎥\n",
       "⎣0  0  0   1⎦"
      ]
     },
     "metadata": {},
     "output_type": "display_data"
    },
    {
     "data": {
      "image/png": "[encoded data removed]",
      "text/latex": [
       "$\\displaystyle \\left[\\begin{matrix}t\\\\- y\\\\x\\\\z\\end{matrix}\\right]$"
      ],
      "text/plain": [
       "⎡t ⎤\n",
       "⎢  ⎥\n",
       "⎢-y⎥\n",
       "⎢  ⎥\n",
       "⎢x ⎥\n",
       "⎢  ⎥\n",
       "⎣z ⎦"
      ]
     },
     "metadata": {},
     "output_type": "display_data"
    }
   ],
   "source": [
    "Lyx = sp.Matrix([[1, 0, 0, 0],\n",
    "                 [0, 0, -1, 0],\n",
    "                 [0, 1, 0, 0],\n",
    "                 [0, 0, 0, 1]])\n",
    "display(Lyx)\n",
    "display(Lyx * v_txyz)"
   ]
  },
  {
   "cell_type": "markdown",
   "metadata": {},
   "source": [
    "Notice that each term is algebraically isolated from the others. To do this with quaternions, the same thing must be done - terms must be isolated from each other. This can be done using the three conjugates and a function to flip signs. For t, one uses the standard conjugates. To isolate x and y needs the action of the first and second conjugates. TO get z, all three conjugates and the sign flip."
   ]
  },
  {
   "cell_type": "code",
   "execution_count": 5,
   "metadata": {},
   "outputs": [],
   "source": [
    "q_txyz = QH([t, x, y, z])"
   ]
  },
  {
   "cell_type": "code",
   "execution_count": 6,
   "metadata": {},
   "outputs": [
    {
     "name": "stdout",
     "output_type": "stream",
     "text": [
      "2 t\n",
      "(2*t, 0, 0, 0) \n",
      "\n",
      "2 x\n",
      "(0, 2*x, 0, 0) \n",
      "\n",
      "2 y\n",
      "(0, 0, 2*y, 0) \n",
      "\n",
      "2 z\n",
      "(0, 0, 0, 2*z) \n",
      "\n"
     ]
    }
   ],
   "source": [
    "q_txyz.add(q_txyz.conj()).print_state(\"2 t\")\n",
    "q_txyz.add(q_txyz.conj(1)).print_state(\"2 x\")\n",
    "q_txyz.add(q_txyz.conj(2)).print_state(\"2 y\")\n",
    "q_txyz.add(q_txyz.conj().conj(1).conj(2).flip_signs()).print_state(\"2 z\")"
   ]
  },
  {
   "cell_type": "markdown",
   "metadata": {},
   "source": [
    "Now twist the $x$ and $y$ states with a product with $k$."
   ]
  },
  {
   "cell_type": "code",
   "execution_count": 7,
   "metadata": {},
   "outputs": [
    {
     "name": "stdout",
     "output_type": "stream",
     "text": [
      "2 x\n",
      "(0, 0, 2*x, 0) \n",
      "\n",
      "2 y\n",
      "(0, -2*y, 0, 0) \n",
      "\n"
     ]
    }
   ],
   "source": [
    "q_txyz.add(q_txyz.conj(1)).product(QH().q_k(-1)).print_state(\"2 x\")\n",
    "q_txyz.add(q_txyz.conj(2)).product(QH().q_k(-1)).print_state(\"2 y\")"
   ]
  },
  {
   "cell_type": "markdown",
   "metadata": {},
   "source": [
    "Just add it all up."
   ]
  },
  {
   "cell_type": "code",
   "execution_count": 8,
   "metadata": {},
   "outputs": [
    {
     "name": "stdout",
     "output_type": "stream",
     "text": [
      "tyxz\n"
     ]
    },
    {
     "data": {
      "image/png": "[encoded data removed]",
      "text/latex": [
       "$\\displaystyle 1.0 t$"
      ],
      "text/plain": [
       "1.0⋅t"
      ]
     },
     "metadata": {},
     "output_type": "display_data"
    },
    {
     "data": {
      "image/png": "[encoded data removed]",
      "text/latex": [
       "$\\displaystyle - 1.0 y$"
      ],
      "text/plain": [
       "-1.0⋅y"
      ]
     },
     "metadata": {},
     "output_type": "display_data"
    },
    {
     "data": {
      "image/png": "[encoded data removed]",
      "text/latex": [
       "$\\displaystyle 1.0 x$"
      ],
      "text/plain": [
       "1.0⋅x"
      ]
     },
     "metadata": {},
     "output_type": "display_data"
    },
    {
     "data": {
      "image/png": "[encoded data removed]",
      "text/latex": [
       "$\\displaystyle 1.0 z$"
      ],
      "text/plain": [
       "1.0⋅z"
      ]
     },
     "metadata": {},
     "output_type": "display_data"
    }
   ],
   "source": [
    "q_txyz.add(q_txyz.conj()).add(q_txyz.add(q_txyz.conj(1)).product(QH().q_k(-1))).add(q_txyz.add(q_txyz.conj(2)).product(QH().q_k(-1))).add(q_txyz.add(q_txyz.conj().conj(1).conj(2).flip_signs())).product(QH().q_1(1/2)).display_q(\"tyxz\")"
   ]
  },
  {
   "cell_type": "code",
   "execution_count": 9,
   "metadata": {},
   "outputs": [
    {
     "name": "stdout",
     "output_type": "stream",
     "text": [
      "e^i\n",
      "(0.5403023058681398, 0.8414709848078965, 0.0, 0.0) \n",
      "\n"
     ]
    }
   ],
   "source": [
    "q_i = QH().q_i()\n",
    "q_i_exp = q_i.exp()\n",
    "q_i_exp.print_state(\"e^i\")"
   ]
  },
  {
   "cell_type": "code",
   "execution_count": 10,
   "metadata": {},
   "outputs": [
    {
     "name": "stdout",
     "output_type": "stream",
     "text": [
      "arccosh:  nan\n",
      "arcsinh:  0.764725154011207\n"
     ]
    },
    {
     "name": "stderr",
     "output_type": "stream",
     "text": [
      "/Users/doug/anaconda3/lib/python3.7/site-packages/ipykernel_launcher.py:1: RuntimeWarning:\n",
      "\n",
      "invalid value encountered in arccosh\n",
      "\n"
     ]
    }
   ],
   "source": [
    "print(\"arccosh: \", np.arccosh(q_i_exp.t))\n",
    "print(\"arcsinh: \", np.arcsinh(q_i_exp.x))"
   ]
  },
  {
   "cell_type": "code",
   "execution_count": 11,
   "metadata": {},
   "outputs": [
    {
     "name": "stdout",
     "output_type": "stream",
     "text": [
      "arccosh:  1.149548905166106\n",
      "arcsinh:  0.9443504370351304\n"
     ]
    }
   ],
   "source": [
    "print(\"arccosh: \", np.cosh(q_i_exp.t))\n",
    "print(\"arcsinh: \", np.sinh(q_i_exp.x))"
   ]
  },
  {
   "cell_type": "code",
   "execution_count": 12,
   "metadata": {},
   "outputs": [
    {
     "name": "stdout",
     "output_type": "stream",
     "text": [
      "|e^i|^2\n",
      "(1.0, 0, 0, 0) \n",
      "\n"
     ]
    }
   ],
   "source": [
    "q_i_exp.norm_squared().print_state(\"|e^i|^2\")"
   ]
  },
  {
   "cell_type": "code",
   "execution_count": 13,
   "metadata": {},
   "outputs": [
    {
     "name": "stdout",
     "output_type": "stream",
     "text": [
      "qv\n",
      "(0.0, 0.8017837257372731, 0.26726124191242434, 0.5345224838248487) \n",
      "\n"
     ]
    }
   ],
   "source": [
    "qv = QH([0, 3, 1, 2]).normalize()\n",
    "qv.print_state(\"qv\")"
   ]
  },
  {
   "cell_type": "code",
   "execution_count": 15,
   "metadata": {},
   "outputs": [
    {
     "name": "stdout",
     "output_type": "stream",
     "text": [
      "q_txyz_qv\n",
      "(1.0*t, 0.285714285714286*x + 0.428571428571428*y + 0.857142857142857*z, 0.428571428571428*x - 0.857142857142857*y + 0.285714285714286*z, 0.857142857142857*x + 0.285714285714286*y - 0.428571428571428*z) \n",
      "\n"
     ]
    }
   ],
   "source": [
    "q_txyz_qv = q_txyz.boost_or_rotation(qv)\n",
    "q_txyz_qv.print_state(\"q_txyz_qv\")"
   ]
  },
  {
   "cell_type": "code",
   "execution_count": 16,
   "metadata": {},
   "outputs": [
    {
     "name": "stdout",
     "output_type": "stream",
     "text": [
      "qb_2\n",
      "(1.0*t**2 - 1.0*x**2 - 8.32667268468867e-17*x*z - 1.0*y**2 + 1.11022302462516e-16*y*z - 1.0*z**2, t*(0.571428571428571*x + 0.857142857142857*y + 1.71428571428571*z), t*(0.857142857142857*x - 1.71428571428571*y + 0.571428571428571*z), t*(1.71428571428571*x + 0.571428571428571*y - 0.857142857142857*z)) \n",
      "\n"
     ]
    }
   ],
   "source": [
    "qb_2 = q_txyz_qv.product(q_txyz_qv).simple_q()\n",
    "qb_2.print_state(\"qb_2\")"
   ]
  },
  {
   "cell_type": "code",
   "execution_count": 17,
   "metadata": {},
   "outputs": [
    {
     "name": "stdout",
     "output_type": "stream",
     "text": [
      "q_txyz_qv_exp\n",
      "(2.40959100359074*t - 1.75673612475498*x - 0.585578708251661*y - 1.17115741650332*z, -1.75673612475498*t + 1.19090004748092*x + 0.731214573665888*y + 1.46242914733178*z, -0.585578708251661*t + 0.731214573665888*x - 0.759005482294776*y + 0.487476382443925*z, -1.17115741650332*t + 1.46242914733178*x + 0.487476382443925*y - 0.0277909086288881*z) \n",
      "\n",
      "qb_exp_2\n",
      "(1.00549487477784*t**2 - 4.44089209850063e-16*t*x - 7.7715611723761e-16*t*y - 1.66533453693773e-15*t*z - 1.00549487477784*x**2 + 8.88178419700125e-16*x*y + 1.33226762955019e-15*x*z - 1.00549487477784*y**2 + 5.55111512312578e-16*y*z - 1.00549487477784*z**2, -2*(-2.40959100359074*t + 1.75673612475498*x + 0.585578708251661*y + 1.17115741650332*z)*(-1.75673612475498*t + 1.19090004748092*x + 0.731214573665888*y + 1.46242914733178*z), 2*(-2.40959100359074*t + 1.75673612475498*x + 0.585578708251661*y + 1.17115741650332*z)*(0.585578708251661*t - 0.731214573665888*x + 0.759005482294776*y - 0.487476382443925*z), 2*(-2.40959100359074*t + 1.75673612475498*x + 0.585578708251661*y + 1.17115741650332*z)*(1.17115741650332*t - 1.46242914733178*x - 0.487476382443925*y + 0.0277909086288881*z)) \n",
      "\n"
     ]
    }
   ],
   "source": [
    "np.set_printoptions(suppress=True)\n",
    "q_txyz_qv_exp = q_txyz.boost_or_rotation(qv.exp().normalize(np.sqrt(1/0.415008189568194)))\n",
    "q_txyz_qv_exp.print_state(\"q_txyz_qv_exp\")\n",
    "qb_2_exp = q_txyz_qv_exp.product(q_txyz_qv_exp).simple_q()\n",
    "qb_2_exp.print_state(\"qb_exp_2\")"
   ]
  },
  {
   "cell_type": "markdown",
   "metadata": {},
   "source": [
    "Demonstrate numerically that the vector normalized cross product does a rotation."
   ]
  },
  {
   "cell_type": "code",
   "execution_count": 18,
   "metadata": {},
   "outputs": [],
   "source": [
    "q1234_n = QH([1, 2, 3, 4]).vector().normalize()\n",
    "q4321_n = QH([4, 3, -2, 1]).vector().normalize()"
   ]
  },
  {
   "cell_type": "code",
   "execution_count": 19,
   "metadata": {},
   "outputs": [
    {
     "name": "stdout",
     "output_type": "stream",
     "text": [
      "q1234_n\n",
      "(0.0, 0.3713906763541038, 0.5570860145311557, 0.7427813527082076) \n",
      "\n",
      "|q1234_n|^2\n",
      "(1.0000000000000002, 0, 0, 0) \n",
      "\n",
      "q4321_n\n",
      "(0.0, 0.8017837257372731, -0.5345224838248487, 0.26726124191242434) \n",
      "\n",
      "|q4321_n|^2\n",
      "(0.9999999999999998, 0, 0, 0) \n",
      "\n"
     ]
    }
   ],
   "source": [
    "q1234_n.print_state(\"q1234_n\")\n",
    "q1234_n.norm_squared().print_state(\"|q1234_n|^2\")\n",
    "q4321_n.print_state(\"q4321_n\")\n",
    "q4321_n.norm_squared().print_state(\"|q4321_n|^2\")"
   ]
  },
  {
   "cell_type": "code",
   "execution_count": 20,
   "metadata": {},
   "outputs": [],
   "source": [
    "q_234x432_n = q1234_n.product(q4321_n, kind=\"odd\").vector().normalize()"
   ]
  },
  {
   "cell_type": "code",
   "execution_count": 21,
   "metadata": {},
   "outputs": [
    {
     "name": "stdout",
     "output_type": "stream",
     "text": [
      "q_2244 sq\n",
      "(-32, 8, 16, 16) \n",
      "\n"
     ]
    }
   ],
   "source": [
    "q_2244 = QH([2, 2, 4, 4])\n",
    "q_2244_sq = q_2244.square()\n",
    "q_2244_sq.print_state(\"q_2244 sq\")"
   ]
  },
  {
   "cell_type": "code",
   "execution_count": 22,
   "metadata": {},
   "outputs": [
    {
     "name": "stdout",
     "output_type": "stream",
     "text": [
      "q_2244_b_q_1234_n\n",
      "(2.0000000000000004, 2.4137931034482762, 2.620689655172415, 4.8275862068965525) \n",
      "\n",
      "q_2244_b_q_1234_n sq\n",
      "(-32.000000000000014, 9.655172413793107, 10.482758620689662, 19.310344827586214) \n",
      "\n",
      "q_2244_b_q_4321_n\n",
      "(1.9999999999999993, -1.1428571428571426, -4.57142857142857, -3.714285714285713) \n",
      "\n",
      "q_2244_b_q_4321_n sq\n",
      "(-31.999999999999982, -4.5714285714285685, -18.285714285714274, -14.857142857142847) \n",
      "\n",
      "q_2244_b_q_234x432_n\n",
      "(2.0, -1.4358974358974352, -3.4871794871794863, -4.666666666666667) \n",
      "\n",
      "q_2244_b_q_234x432_n sq\n",
      "(-32.0, -5.743589743589741, -13.948717948717945, -18.666666666666668) \n",
      "\n"
     ]
    }
   ],
   "source": [
    "q_2244_b_q_1234_n = q_2244.boost_or_rotation(q1234_n)\n",
    "q_2244_b_q_1234_n.print_state(\"q_2244_b_q_1234_n\")\n",
    "q_2244_b_q_1234_n.square().print_state(\"q_2244_b_q_1234_n sq\")\n",
    "\n",
    "q_2244_b_q_4321_n = q_2244.boost_or_rotation(q4321_n)\n",
    "q_2244_b_q_4321_n.print_state(\"q_2244_b_q_4321_n\")\n",
    "q_2244_b_q_4321_n.square().print_state(\"q_2244_b_q_4321_n sq\")\n",
    "\n",
    "q_2244_b_q_234x432_n = q_2244.boost_or_rotation(q_234x432_n)\n",
    "q_2244_b_q_234x432_n.print_state(\"q_2244_b_q_234x432_n\")\n",
    "q_2244_b_q_234x432_n.square().print_state(\"q_2244_b_q_234x432_n sq\")"
   ]
  },
  {
   "cell_type": "markdown",
   "metadata": {},
   "source": [
    "These three rotations all work as expected. The first term is fixed at the value 2.0, plus or minus some numerical error. The directions pointed to are all over the map. Yet the first term of the square is always -32.0 with numerical error."
   ]
  },
  {
   "cell_type": "markdown",
   "metadata": {},
   "source": [
    "Now see if boosts can be done..."
   ]
  },
  {
   "cell_type": "code",
   "execution_count": 23,
   "metadata": {},
   "outputs": [
    {
     "name": "stdout",
     "output_type": "stream",
     "text": [
      "q_2244_b_q_1234_exp_n\n",
      "(-3.4032733816933765, 1.6175867245049789, 2.010233250210325, 3.235173449009957) \n",
      "\n",
      "q_2244_b_q_1234_exp_n sq\n",
      "(-5.541702066182223, -11.010179684176743, -13.68274662287152, -22.02035936835348) \n",
      "\n"
     ]
    }
   ],
   "source": [
    "q_2244_b_q_1234_n_exp = q_2244.boost_or_rotation(q1234_n.exp())\n",
    "q_2244_b_q_1234_n_exp.print_state(\"q_2244_b_q_1234_exp_n\")\n",
    "q_2244_b_q_1234_n_exp.square().print_state(\"q_2244_b_q_1234_exp_n sq\")"
   ]
  },
  {
   "cell_type": "code",
   "execution_count": 24,
   "metadata": {},
   "outputs": [
    {
     "name": "stdout",
     "output_type": "stream",
     "text": [
      "q_2244_b_q_1234_exp_n\n",
      "(-3.4032733816933765, 1.6175867245049784, 2.010233250210324, 3.2351734490099555) \n",
      "\n",
      "q_2244_b_q_1234_exp_n sq\n",
      "(-5.541702066182209, -11.01017968417674, -13.682746622871512, -22.02035936835347) \n",
      "\n"
     ]
    }
   ],
   "source": [
    "q_2244_b_q_1234_n_exp_n = q_2244.boost_or_rotation(q1234_n.exp().normalize())\n",
    "q_2244_b_q_1234_n_exp_n.print_state(\"q_2244_b_q_1234_exp_n\")\n",
    "q_2244_b_q_1234_n_exp_n.square().print_state(\"q_2244_b_q_1234_exp_n sq\")"
   ]
  },
  {
   "cell_type": "markdown",
   "metadata": {},
   "source": [
    "Not even close. Need to do something so 1st term > 1.0."
   ]
  },
  {
   "cell_type": "code",
   "execution_count": 25,
   "metadata": {},
   "outputs": [
    {
     "name": "stdout",
     "output_type": "stream",
     "text": [
      "q1234_n_exp\n",
      "(0.5403023058681398, 0.3125144781801585, 0.4687717172702377, 0.625028956360317) \n",
      "\n",
      "|q123_or_rotation4_n_exp|^2\n",
      "(1.0000000000000004, 0, 0, 0) \n",
      "\n"
     ]
    }
   ],
   "source": [
    "q1234_n.exp().print_state(\"q1234_n_exp\")\n",
    "q1234_n.exp().norm_squared().print_state(\"|q123_or_rotation4_n_exp|^2\")"
   ]
  },
  {
   "cell_type": "code",
   "execution_count": 26,
   "metadata": {},
   "outputs": [
    {
     "name": "stdout",
     "output_type": "stream",
     "text": [
      "q1234_n_exp\n",
      "(0.5403023058681398, 0.3125144781801585, 0.4687717172702377, 0.625028956360317) \n",
      "\n",
      "q1234_n_ln\n",
      "(0.0, 0.5833791102228985, 0.8750686653343477, 1.166758220445797) \n",
      "\n",
      "q1234_n_cos\n",
      "(1.5430806348152437, -0.0, -0.0, -0.0) \n",
      "\n",
      "q1234_n_sin\n",
      "(0.0, 0.4364587661595215, 0.6546881492392822, 0.872917532319043) \n",
      "\n",
      "q1234_n_cosh\n",
      "(0.5403023058681398, 0.0, 0.0, 0.0) \n",
      "\n",
      "q1234_n_sinh\n",
      "(0.0, 0.3125144781801585, 0.4687717172702377, 0.625028956360317) \n",
      "\n"
     ]
    }
   ],
   "source": [
    "q1234_n.exp().print_state(\"q1234_n_exp\")\n",
    "q1234_n.ln().print_state(\"q1234_n_ln\")\n",
    "q1234_n.cos().print_state(\"q1234_n_cos\")\n",
    "q1234_n.sin().print_state(\"q1234_n_sin\")\n",
    "q1234_n.cosh().print_state(\"q1234_n_cosh\")\n",
    "q1234_n.sinh().print_state(\"q1234_n_sinh\")\n",
    "#q1234_n.acos().print_state(\"q1234_n_acos\")\n",
    "#q1234_n.asin().print_state(\"q1234_n_asin\")\n",
    "#q1234_n.acosh().print_state(\"q1234_n_acosh\")\n",
    "#q1234_n.asinh().print_state(\"q1234_n_asinh\")"
   ]
  },
  {
   "cell_type": "code",
   "execution_count": 27,
   "metadata": {},
   "outputs": [],
   "source": [
    "q_1234_n_asin = QH([0.000000, 0.327334, 0.491001, 0.654668])\n",
    "q_1234_n_acos = QH([1.190426, -0.259756, -1.209502, 0.095389])\n",
    "q_1234_n_asinh = QH([0.000000, 0.583379, 0.875069, 1.166758])\n",
    "q_1234_n_acosh = QH([0.699414, 1.393649, 0.434801, 0.579735])"
   ]
  },
  {
   "cell_type": "code",
   "execution_count": 28,
   "metadata": {},
   "outputs": [
    {
     "name": "stdout",
     "output_type": "stream",
     "text": [
      "q_2244_b_q_1234_acos\n",
      "(17.760196622002, 3.5772476590220013, 17.306754261724002, -1.8929317123880018) \n",
      "\n",
      "q_2244_b_q_1234_acos sq\n",
      "(-0.47905030527323333, 127.06524357965421, 614.7427171537787, -67.2376788080677) \n",
      "\n"
     ]
    }
   ],
   "source": [
    "q_2244_b_q_1234_acos = q_2244.boost_or_rotation(q_1234_n_acos)\n",
    "q_2244_b_q_1234_acos.print_state(\"q_2244_b_q_1234_acos\")\n",
    "q_2244_b_q_1234_acos.square().print_state(\"q_2244_b_q_1234_acos sq\")"
   ]
  },
  {
   "cell_type": "code",
   "execution_count": 29,
   "metadata": {},
   "outputs": [
    {
     "name": "stdout",
     "output_type": "stream",
     "text": [
      "q_2244_b_q_1234_acos_n\n",
      "(6.007004129853378, 1.2099270024202697, 5.853637014116269, -0.6402433968415933) \n",
      "\n",
      "q_2244_b_q_1234_acos_n sq\n",
      "(-0.0548026353414528, 14.536073000719357, 70.32564343691804, -7.691889457877612) \n",
      "\n"
     ]
    }
   ],
   "source": [
    "q_2244_b_q_1234_acos_n = q_2244.boost_or_rotation(q_1234_n_acos.normalize())\n",
    "q_2244_b_q_1234_acos_n.print_state(\"q_2244_b_q_1234_acos_n\")\n",
    "q_2244_b_q_1234_acos_n.square().print_state(\"q_2244_b_q_1234_acos_n sq\")"
   ]
  },
  {
   "cell_type": "code",
   "execution_count": 30,
   "metadata": {},
   "outputs": [
    {
     "name": "stdout",
     "output_type": "stream",
     "text": [
      "q_2244_b_cs_n\n",
      "(0.03663127777747377, 0.03663127777747377, 4.0, 4.0) \n",
      "\n",
      "q_2244_b_cs sq\n",
      "(-31.999999999999996, 0.002683701023220887, 0.29305022221979016, 0.29305022221979016) \n",
      "\n"
     ]
    }
   ],
   "source": [
    "q_2244_b_cs = q_2244.boost_or_rotation(QH([np.cosh(2), np.sinh(2),0,0]))\n",
    "q_2244_b_cs.print_state(\"q_2244_b_cs_n\")\n",
    "q_2244_b_cs.square().print_state(\"q_2244_b_cs sq\")"
   ]
  },
  {
   "cell_type": "code",
   "execution_count": 31,
   "metadata": {},
   "outputs": [
    {
     "name": "stdout",
     "output_type": "stream",
     "text": [
      "q_2244_b_cs_n\n",
      "(-7.143590901924, 5.302060219263999, 5.974877164564001, 10.604120438527998) \n",
      "\n",
      "q_2244_b_cs sq\n",
      "(-125.22747900108604, -75.75149828757495, -85.36415630578573, -151.5029965751499) \n",
      "\n"
     ]
    }
   ],
   "source": [
    "q_2244_b_cs = q_2244.boost_or_rotation(QH([0.699414, 0.583379, 0.875069, 1.166758]))\n",
    "q_2244_b_cs.print_state(\"q_2244_b_cs_n\")\n",
    "q_2244_b_cs.square().print_state(\"q_2244_b_cs sq\")"
   ]
  },
  {
   "cell_type": "code",
   "execution_count": 32,
   "metadata": {},
   "outputs": [
    {
     "name": "stdout",
     "output_type": "stream",
     "text": [
      "q_2244_b_cs_n\n",
      "(-9.31339163031228, 3.4795687572422356, 5.636467197339364, 6.959137514484416) \n",
      "\n",
      "q_2244_b_cs sq\n",
      "(-5.567492488992443, -64.81317308159187, -104.9892528404603, -129.62634616318272) \n",
      "\n"
     ]
    }
   ],
   "source": [
    "q_2244_b_cs = q_2244.boost_or_rotation(QH([1.190426, 0.3713906763541038, 0.5570860145311557, 0.7427813527082]))\n",
    "q_2244_b_cs.print_state(\"q_2244_b_cs_n\")\n",
    "q_2244_b_cs.square().print_state(\"q_2244_b_cs sq\")"
   ]
  },
  {
   "cell_type": "code",
   "execution_count": 33,
   "metadata": {},
   "outputs": [
    {
     "name": "stdout",
     "output_type": "stream",
     "text": [
      "q_2244_b_cs_n\n",
      "(-14.453999495347997, 6.012144097231999, 7.967936117572, 12.024288194464) \n",
      "\n",
      "q_2244_b_cs sq\n",
      "(-35.2992877915961, -173.7990554947015, -230.33708924470153, -347.5981109894031) \n",
      "\n"
     ]
    }
   ],
   "source": [
    "q_2244_b_cs = q_2244.boost_or_rotation(QH([1.190426, 0.583379, 0.875069, 1.166758]))\n",
    "q_2244_b_cs.print_state(\"q_2244_b_cs_n\")\n",
    "q_2244_b_cs.square().print_state(\"q_2244_b_cs sq\")"
   ]
  },
  {
   "cell_type": "markdown",
   "metadata": {},
   "source": [
    "Try $(\\exp(a) + \\exp(-a))/2$, $(\\exp(a) - \\exp(-a))/2$ "
   ]
  },
  {
   "cell_type": "code",
   "execution_count": 34,
   "metadata": {},
   "outputs": [
    {
     "name": "stdout",
     "output_type": "stream",
     "text": [
      "exp sum\n",
      "(1.0806046117362795, 0.0, 0.0, 0.0) \n",
      "\n",
      "exp_dif\n",
      "(0.0, 0.625028956360317, 0.9375434345404754, 1.250057912720634) \n",
      "\n"
     ]
    }
   ],
   "source": [
    "exp_a = q1234_n.exp()\n",
    "exp_ac = q1234_n.conj().exp()\n",
    "exp_sum = exp_a.add(exp_ac).product(QH([1, 0, 0, 0]))\n",
    "exp_dif = exp_a.dif(exp_ac).product(QH([1, 0, 0, 0]))\n",
    "exp_sum.print_state(\"exp sum\")\n",
    "exp_dif.print_state(\"exp_dif\")"
   ]
  },
  {
   "cell_type": "code",
   "execution_count": 35,
   "metadata": {},
   "outputs": [
    {
     "name": "stdout",
     "output_type": "stream",
     "text": [
      "exp_a\n",
      "(0.5403023058681398, 0.3125144781801585, 0.4687717172702377, 0.625028956360317) \n",
      "\n",
      "exp_ac\n",
      "(0.5403023058681398, -0.3125144781801585, -0.4687717172702377, -0.625028956360317) \n",
      "\n",
      "exp_sum\n",
      "(1.0806046117362795, 0.0, 0.0, 0.0) \n",
      "\n",
      "exp_dif\n",
      "(0.0, 0.625028956360317, 0.9375434345404754, 1.250057912720634) \n",
      "\n"
     ]
    }
   ],
   "source": [
    "exp_a.print_state(\"exp_a\")\n",
    "exp_ac.print_state(\"exp_ac\")\n",
    "exp_sum.print_state(\"exp_sum\")\n",
    "exp_dif.print_state(\"exp_dif\")"
   ]
  },
  {
   "cell_type": "code",
   "execution_count": 39,
   "metadata": {},
   "outputs": [
    {
     "name": "stdout",
     "output_type": "stream",
     "text": [
      "q_2244_b_exp_sum_dif\n",
      "(-13.613093526773506, 6.4703468980199155, 8.0409330008413, 12.940693796039827) \n",
      "\n",
      "q_2244_b_exp_sum_dif\n",
      "(-88.66723305891557, -176.16287494682788, -218.9239459659443, -352.32574989365565) \n",
      "\n"
     ]
    }
   ],
   "source": [
    "q_2244_b_exp_sum_dif = q_2244.boost_or_rotation(exp_sum.add(exp_dif))\n",
    "q_2244_b_exp_sum_dif.print_state(\"q_2244_b_exp_sum_dif\")\n",
    "q_2244_b_exp_sum_dif.square().print_state(\"q_2244_b_exp_sum_dif\")"
   ]
  },
  {
   "cell_type": "code",
   "execution_count": 40,
   "metadata": {},
   "outputs": [
    {
     "name": "stdout",
     "output_type": "stream",
     "text": [
      "q_1234_n\n",
      "(0.0, 0.3713906763541038, 0.5570860145311557, 0.7427813527082076) \n",
      "\n"
     ]
    }
   ],
   "source": [
    "q1234_n.print_state(\"q_1234_n\")"
   ]
  },
  {
   "cell_type": "markdown",
   "metadata": {},
   "source": [
    "Take each term separately and invert it."
   ]
  },
  {
   "cell_type": "code",
   "execution_count": 41,
   "metadata": {},
   "outputs": [
    {
     "data": {
      "image/png": "[encoded data removed]",
      "text/latex": [
       "$\\displaystyle 2.692582403567252$"
      ],
      "text/plain": [
       "2.692582403567252"
      ]
     },
     "execution_count": 41,
     "metadata": {},
     "output_type": "execute_result"
    },
    {
     "data": {
      "image/png": "[encoded data removed]",
      "text/latex": [
       "$\\displaystyle 1.795054935711501$"
      ],
      "text/plain": [
       "1.795054935711501"
      ]
     },
     "execution_count": 41,
     "metadata": {},
     "output_type": "execute_result"
    },
    {
     "data": {
      "image/png": "[encoded data removed]",
      "text/latex": [
       "$\\displaystyle 1.346291201783626$"
      ],
      "text/plain": [
       "1.346291201783626"
      ]
     },
     "execution_count": 41,
     "metadata": {},
     "output_type": "execute_result"
    }
   ],
   "source": [
    "1/0.3713906763541038\n",
    "1/0.5570860145311557\n",
    "1/0.7427813527082076"
   ]
  },
  {
   "cell_type": "markdown",
   "metadata": {},
   "source": [
    "To calculate the hyperbolic cosine, one needs the sum/even part of an exponential of a real number:\n",
    "\n",
    "$$\\cosh(x) = \\frac{e^{x}+e^{-x}}{2}$$\n",
    "\n",
    "whereas sinh(x) is the difference:\n",
    "\n",
    "$$\\sinh(x) = \\frac{e^{x}-e^{-x}}{2}$$"
   ]
  },
  {
   "cell_type": "code",
   "execution_count": 42,
   "metadata": {},
   "outputs": [
    {
     "name": "stdout",
     "output_type": "stream",
     "text": [
      "xsum:  7.418737043051091\n",
      "xdif:  7.351031173511539\n"
     ]
    }
   ],
   "source": [
    "xsum=(np.exp(2.692582403567252)+np.exp(-2.692582403567252))/2\n",
    "xdif=(np.exp(2.692582403567252)-np.exp(-2.692582403567252))/2\n",
    "print(\"xsum: \", xsum)\n",
    "print(\"xdif: \", xdif)"
   ]
  },
  {
   "cell_type": "markdown",
   "metadata": {},
   "source": [
    "Use the sum and the difference to create a boost quaternion, one that is a combination of a xsum and i xdif."
   ]
  },
  {
   "cell_type": "code",
   "execution_count": 43,
   "metadata": {},
   "outputs": [
    {
     "name": "stdout",
     "output_type": "stream",
     "text": [
      "qboost\n",
      "(7.418737043051091, 2.730104439430552, 4.095156659145828, 5.460208878861104) \n",
      "\n"
     ]
    }
   ],
   "source": [
    "qboost = QH([xsum, 0, 0, 0]).add(q1234_n.product(QH([xdif,0,0,0])))\n",
    "qboost.print_state(\"qboost\")"
   ]
  },
  {
   "cell_type": "code",
   "execution_count": 44,
   "metadata": {},
   "outputs": [
    {
     "name": "stdout",
     "output_type": "stream",
     "text": [
      "q_2244_b_qboost\n",
      "(-429.9750247026996, 159.49534026154237, 240.24301039231347, 318.9906805230847) \n",
      "\n",
      "q_2244_b_q_boost\n",
      "(-31.99999999991269, -137158.02573784432, -206596.9886561718, -274316.0514756886) \n",
      "\n"
     ]
    }
   ],
   "source": [
    "q_2244_b_qboost = q_2244.boost_or_rotation(qboost)\n",
    "q_2244_b_qboost.print_state(\"q_2244_b_qboost\")\n",
    "q_2244_b_qboost.square().print_state(\"q_2244_b_q_boost\")"
   ]
  },
  {
   "cell_type": "code",
   "execution_count": 45,
   "metadata": {},
   "outputs": [
    {
     "name": "stdout",
     "output_type": "stream",
     "text": [
      "q1234_n + *1\n",
      "(0.0, 0.7427813527082076, 0.0, 0.0) \n",
      "\n",
      "q1234_n + *1 inv\n",
      "(0.0, -1.346291201783626, 0.0, 0.0) \n",
      "\n",
      "q1234_n + *1 inv i\n",
      "(1.346291201783626, 0.0, 0.0, 0.0) \n",
      "\n"
     ]
    }
   ],
   "source": [
    "q1234_n.add(q1234_n.conj(1)).print_state(\"q1234_n + *1\")\n",
    "q1234_n.add(q1234_n.conj(1)).inverse().print_state(\"q1234_n + *1 inv\")\n",
    "q1234_n.add(q1234_n.conj(1)).inverse().product(QH().q_i()).print_state(\"q1234_n + *1 inv i\")"
   ]
  },
  {
   "cell_type": "code",
   "execution_count": 46,
   "metadata": {},
   "outputs": [
    {
     "name": "stdout",
     "output_type": "stream",
     "text": [
      "0 + *1 inv\n",
      "(0, 0, 0, 0) \n",
      "\n"
     ]
    }
   ],
   "source": [
    "QH().q_0().add(QH().q_0().conj(1)).inverse().print_state(\"0 + *1 inv\")"
   ]
  },
  {
   "cell_type": "code",
   "execution_count": 51,
   "metadata": {},
   "outputs": [
    {
     "name": "stderr",
     "output_type": "stream",
     "text": [
      ".."
     ]
    },
    {
     "name": "stdout",
     "output_type": "stream",
     "text": [
      "next_boost:  (1.001250260438369, -0.013368630734195315, -0.02673726146839063, -0.04010589220258595) exp(scalar(QxEQ)^-1)+exp(-scalar(QxEQ)^-1)x1+vector(QxEQ)Uxexp(scalar(QxEQ)^-1)-exp(-scalar(QxEQ)^-1)x1\n",
      "next_rotation:  (0.0, 0.408248290463863, -0.816496580927726, 0.408248290463863) QxOQU\n",
      "qnext\n",
      "(0.0, 0.792593923901217, 0.22645540682891913, -0.5661385170722978) \n",
      "\n",
      "q_2244_b_qnext\n",
      "(1.9999999999999996, -1.641025641025641, -3.897435897435897, -4.2564102564102555) \n",
      "\n",
      "q_2244_b_qnext\n",
      "(-31.999999999999986, -6.564102564102562, -15.589743589743584, -17.02564102564102) \n",
      "\n"
     ]
    },
    {
     "name": "stderr",
     "output_type": "stream",
     "text": [
      "\n",
      "----------------------------------------------------------------------\n",
      "Ran 2 tests in 0.003s\n",
      "\n",
      "OK\n"
     ]
    }
   ],
   "source": [
    "def Lorentz_next_rotation(q1, q2):\n",
    "    \"\"\"Given 2 quaternions, creates a new quaternion to do a rotation\n",
    "       in the triple triple quaternion function by using a normalized cross product.\"\"\"\n",
    "    \n",
    "    next_rotation = q1.product(q2, kind=\"odd\").normalize()\n",
    "    \n",
    "    # If the 2 quaternions point in exactly the same direction, the result is zoro.\n",
    "    # That is unacceptable for closure, so return the normalized vector of one input.\n",
    "    # This does create some ambiguity since q1 and q2 could point in exactly opposite\n",
    "    # directions. In that case, the first quaternion is always chosen.\n",
    "    v_norm = next_rotation.norm_squared_of_vector()\n",
    "    \n",
    "    if v_norm.t == 0:\n",
    "        next_rotation = q1.vector().normalize()\n",
    "\n",
    "    return next_rotation\n",
    "\n",
    "def Lorentz_next_boost(q1, q2):\n",
    "    \"\"\"Given 2 quaternions, creates a new quaternion to do a boost/rotation\n",
    "       using the triple triple quaternion product\n",
    "       by using the scalar of an even product to form (cosh(x), i sinh(x)).\"\"\"\n",
    "    \n",
    "    q_even = q1.product(q2, kind=\"even\")\n",
    "    q_s = q_even.scalar()\n",
    "    q_v = q_even.vector().normalize()\n",
    "    \n",
    "    if np.abs(q_s.t) > 1:\n",
    "        q_s = q_s.inverse()\n",
    "    \n",
    "    exp_sum = q_s.exp().add(q_s.flip_signs().exp()).product(QH().q_1(1/2))\n",
    "    exp_dif = q_s.exp().dif(q_s.flip_signs().exp()).product(QH().q_1(1/2))\n",
    "    \n",
    "    boost = exp_sum.add(q_v.product(exp_dif))\n",
    "    \n",
    "    return boost\n",
    "\n",
    "if __name__ == \"__main__\":\n",
    "    class TestLorentz(unittest.TestCase):\n",
    "    \n",
    "        Q = QH([1, -2, -3, -4], qtype=\"Q\")\n",
    "        P = QH([0, 4, -3, 0], qtype=\"P\")\n",
    "        R = QH([3, 0, 0, 0], qtype=\"R\")\n",
    "        C = QH([2, 4, 0, 0], qtype=\"C\")\n",
    "        q4321 = QH([4, 3, 2, 1])\n",
    "        q2244 = QH([2, 2, 4, 4])\n",
    "        \n",
    "        t, x, y, z = sp.symbols(\"t x y z\")\n",
    "        q_sym = QH([t, x, y, x * y * z])\n",
    "        \n",
    "        def test_Lorentz_next_rotation(self):\n",
    "            next_rotation = Lorentz_next_rotation(self.Q, self.q4321)\n",
    "            print(\"next_rotation: \", next_rotation)\n",
    "            self.assertEqual(next_rotation.t, 0)\n",
    "            rot = self.q2244.boost_or_rotation(next_rotation)\n",
    "            self.assertEqual(rot.t, 2)\n",
    "            self.assertAlmostEqual(rot.square().t, self.q2244.square().t)\n",
    "            next_rotation = Lorentz_next_rotation(self.Q, self.Q)\n",
    "            self.assertTrue(next_rotation.equals(self.Q.vector().normalize()))\n",
    "            \n",
    "            \n",
    "        def test_Lorentz_next_boost(self):\n",
    "            next_boost = Lorentz_next_boost(self.Q, self.q4321)\n",
    "            print(\"next_boost: \", next_boost)\n",
    "            self.assertNotEqual(next_boost.t, 0)\n",
    "            boost = self.q2244.boost_or_rotation(next_boost)\n",
    "            self.assertAlmostEqual(boost.square().t, self.q2244.square().t)\n",
    "            \n",
    "    suite = unittest.TestLoader().loadTestsFromModule(TestLorentz())\n",
    "    _results = unittest.TextTestRunner().run(suite); \n",
    "\n",
    "qnext = Lorentz_next_rotation(QH([1, 2, 3, 4]), QH([4, 3, 2, 5]))\n",
    "qnext.print_state(\"qnext\")\n",
    "q_2244_b_qnext = q_2244.boost_or_rotation(qnext)\n",
    "q_2244_b_qnext.print_state(\"q_2244_b_qnext\")\n",
    "q_2244_b_qnext.square().print_state(\"q_2244_b_qnext\")"
   ]
  },
  {
   "cell_type": "code",
   "execution_count": 52,
   "metadata": {},
   "outputs": [
    {
     "name": "stdout",
     "output_type": "stream",
     "text": [
      "qnext\n",
      "(0.0, 0.3713906763541038, 0.5570860145311557, 0.7427813527082076) \n",
      "\n",
      "q_2244_b_qnext\n",
      "(2.0000000000000004, 2.4137931034482762, 2.620689655172415, 4.8275862068965525) \n",
      "\n",
      "q_2244_b_qnext\n",
      "(-32.000000000000014, 9.655172413793107, 10.482758620689662, 19.310344827586214) \n",
      "\n"
     ]
    }
   ],
   "source": [
    "qnext = Lorentz_next_rotation(QH([1, 2, 3, 4]), QH([4, 2, 3, 4]))\n",
    "qnext.print_state(\"qnext\")\n",
    "q_2244_b_qnext = q_2244.boost_or_rotation(qnext)\n",
    "q_2244_b_qnext.print_state(\"q_2244_b_qnext\")\n",
    "q_2244_b_qnext.square().print_state(\"q_2244_b_qnext\")"
   ]
  },
  {
   "cell_type": "code",
   "execution_count": null,
   "metadata": {},
   "outputs": [],
   "source": []
  },
  {
   "cell_type": "code",
   "execution_count": 53,
   "metadata": {},
   "outputs": [
    {
     "name": "stdout",
     "output_type": "stream",
     "text": [
      "qnext boost\n",
      "(1.003474232075276, -0.03728015131041589, -0.04744746530416568, -0.057614779297915475) \n",
      "\n",
      "q_2244_b_qnext\n",
      "(3.020898864365165, 2.186531814564609, 4.237404127627684, 4.288276440690759) \n",
      "\n",
      "q_2244_b_qnext sq\n",
      "(-31.999999999999993, 13.210582951033063, 25.60153863401347, 25.908898859533213) \n",
      "\n"
     ]
    }
   ],
   "source": [
    "qnext = Lorentz_next_boost(QH([1, 2, 3, 4]), QH([4, 3, 2, 1]))\n",
    "qnext.print_state(\"qnext boost\")\n",
    "q_2244_b_qnext = q_2244.boost_or_rotation(qnext)\n",
    "q_2244_b_qnext.print_state(\"q_2244_b_qnext\")\n",
    "q_2244_b_qnext.square().print_state(\"q_2244_b_qnext sq\")"
   ]
  },
  {
   "cell_type": "code",
   "execution_count": 54,
   "metadata": {},
   "outputs": [
    {
     "name": "stdout",
     "output_type": "stream",
     "text": [
      "ij\n",
      "(0, 0, 0, 0) \n",
      "\n"
     ]
    }
   ],
   "source": [
    "QH().q_i().product(QH().q_j(), kind=\"even\").print_state(\"ij\")"
   ]
  },
  {
   "cell_type": "code",
   "execution_count": 56,
   "metadata": {},
   "outputs": [
    {
     "name": "stdout",
     "output_type": "stream",
     "text": [
      "rotation is:\n",
      "(0.0, -0.408248290463863, 0.816496580927726, -0.408248290463863) \n",
      "\n",
      "boost is:\n",
      "(1.003474232075276, -0.03728015131041589, -0.04744746530416568, -0.057614779297915475) \n",
      "\n",
      "qnext rotation & boost\n",
      "(-3.4455469941937415e-18, -0.34088945100001966, 0.8219335335334448, -0.4563109122628241) \n",
      "\n",
      "q_2244_b_qnext\n",
      "(2.0, -2.5322726858926607, -2.7166139396931155, -4.712494429381007) \n",
      "\n",
      "q_2244_b_qnext sq\n",
      "(-32.0, -10.129090743570643, -10.866455758772462, -18.849977717524027) \n",
      "\n"
     ]
    }
   ],
   "source": [
    "def Lorentz_next(q1, q2):\n",
    "    \"\"\"Do both since both work, combine at the end.\"\"\"\n",
    "    \n",
    "    rotation = Lorentz_next_rotation(q1, q2)\n",
    "    rotation.print_state(\"rotation is:\")\n",
    "    boost = Lorentz_next_boost(q1, q2)\n",
    "    boost.print_state(\"boost is:\")\n",
    "    rotation_boost = boost.product(rotation).normalize()\n",
    "    \n",
    "    return rotation_boost\n",
    "\n",
    "qnext = Lorentz_next(QH([1, 2, 3, 4]), QH([4, 3, 2, 1]))\n",
    "qnext.print_state(\"qnext rotation & boost\")\n",
    "q_2244_b_qnext = q_2244.boost_or_rotation(qnext)\n",
    "q_2244_b_qnext.print_state(\"q_2244_b_qnext\")\n",
    "q_2244_b_qnext.square().print_state(\"q_2244_b_qnext sq\")"
   ]
  },
  {
   "cell_type": "code",
   "execution_count": 57,
   "metadata": {},
   "outputs": [
    {
     "name": "stdout",
     "output_type": "stream",
     "text": [
      "qnext boost\n",
      "(1.0021787907288062, -0.055732536465431276, -0.031092888764924824, -0.01701309007892113) \n",
      "\n",
      "q_2244_b_qnext\n",
      "(2.626551511979718, 2.2572888722411424, 4.143540107671375, 4.078540813631507) \n",
      "\n",
      "q_2244_b_qnext sq\n",
      "(-32.000000000000014, 11.857771000719929, 21.766443069505705, 21.42499508142965) \n",
      "\n"
     ]
    }
   ],
   "source": [
    "qnext = Lorentz_next_boost(QH([.1, .2, .03, .04]), QH([.04, .3, .2, .1]))\n",
    "qnext.print_state(\"qnext boost\")\n",
    "q_2244_b_qnext = q_2244.boost_or_rotation(qnext)\n",
    "q_2244_b_qnext.print_state(\"q_2244_b_qnext\")\n",
    "q_2244_b_qnext.square().print_state(\"q_2244_b_qnext sq\")"
   ]
  },
  {
   "cell_type": "code",
   "execution_count": 58,
   "metadata": {},
   "outputs": [
    {
     "name": "stdout",
     "output_type": "stream",
     "text": [
      "qnext boost\n",
      "(1.0021787907288062, -0.055732536465431276, -0.031092888764924824, -0.01701309007892113) \n",
      "\n",
      "q_2244_b_qnext\n",
      "(2.626551511979718, 2.2572888722411424, 4.143540107671375, 4.078540813631507) \n",
      "\n",
      "q_2244_b_qnext sq\n",
      "(-32.000000000000014, 11.857771000719929, 21.766443069505705, 21.42499508142965) \n",
      "\n"
     ]
    }
   ],
   "source": [
    "qnext = Lorentz_next_boost(QH([.1, .2, .03, .04]), QH([.04, .3, .2, .1]))\n",
    "qnext.print_state(\"qnext boost\")\n",
    "q_2244_b_qnext = q_2244.boost_or_rotation(qnext)\n",
    "q_2244_b_qnext.print_state(\"q_2244_b_qnext\")\n",
    "q_2244_b_qnext.square().print_state(\"q_2244_b_qnext sq\")"
   ]
  },
  {
   "cell_type": "code",
   "execution_count": null,
   "metadata": {},
   "outputs": [],
   "source": [
    "  "
   ]
  },
  {
   "cell_type": "code",
   "execution_count": 62,
   "metadata": {},
   "outputs": [
    {
     "name": "stderr",
     "output_type": "stream",
     "text": [
      ".."
     ]
    },
    {
     "name": "stdout",
     "output_type": "stream",
     "text": [
      "Oops, check those values again for rows:2 columns:3 dim:1\n",
      "next_boost:  n=1: (1.0019537608656677, -0.026533771015707055, -0.03537836135427607, -0.04422295169284508) exp(scalar(QxEQ)^-1)+exp(-scalar(QxEQ)^-1)x1+vector(QxEQ)Uxexp(scalar(QxEQ)^-1)-exp(-scalar(QxEQ)^-1)x1\n",
      "n=2: (1.0032017070307973, 0.05051031726807381, 0.02946435173970972, -0.05471951037374663) exp(scalar(QxEQ))+exp(-scalar(QxEQ))x1+vector(QxEQ)Uxexp(scalar(QxEQ))-exp(-scalar(QxEQ))x1\n",
      "next_rotation:  n=1: (0.0, -0.408248290463863, 0.816496580927726, -0.408248290463863) QxOQU\n",
      "n=2: (0.0, 0.6172133998483676, -0.7715167498104595, 0.1543033499620919) QxOQU\n"
     ]
    },
    {
     "name": "stderr",
     "output_type": "stream",
     "text": [
      "\n",
      "----------------------------------------------------------------------\n",
      "Ran 2 tests in 0.005s\n",
      "\n",
      "OK\n"
     ]
    }
   ],
   "source": [
    "def Lorentz_next_rotationQS(self, q1):\n",
    "    \"\"\"Does multiple rotations of a QHState given another QHState of equal dimensions.\"\"\"\n",
    "    \n",
    "    if self.dim != q1.dim:\n",
    "        print(\"Oops, this tool requires 2 quaternion states with the same number of dimensions.\")\n",
    "        return null\n",
    "    \n",
    "    new_states = []\n",
    "        \n",
    "    for ket, q in zip(self.qs, q1.qs):\n",
    "        new_states.append(Lorentz_next_rotation(ket, q))\n",
    "            \n",
    "    return QHStates(new_states, qs_type=self.qs_type, rows=self.rows, columns=self.columns)\n",
    "   \n",
    "\n",
    "def Lorentz_next_boostQS(self, q1):\n",
    "    \"\"\"Does multiple boosts of a QHState given another QHState of equal dimensions.\"\"\"\n",
    "          \n",
    "    if self.dim != q1.dim:\n",
    "        print(\"Oops, this tool requires 2 quaternion states with the same number of dimensions.\")\n",
    "        return null\n",
    "                      \n",
    "    new_states = []\n",
    "        \n",
    "    for ket, q in zip(self.qs, q1.qs):\n",
    "        new_states.append(Lorentz_next_boost(ket, q))\n",
    "       \n",
    "    return QHStates(new_states, qs_type=self.qs_type, rows=self.rows, columns=self.columns)\n",
    "   \n",
    "\n",
    "if __name__ == \"__main__\":\n",
    "  \n",
    "\n",
    "    class TestQHStates(unittest.TestCase):\n",
    "        \"\"\"Test states.\"\"\"\n",
    "\n",
    "        q_0 = QH().q_0()\n",
    "        q_1 = QH().q_1()\n",
    "        q_i = QH().q_i()\n",
    "        q_n1 = QH([-1,0,0,0])\n",
    "        q_2 = QH([2,0,0,0])\n",
    "        q_n2 = QH([-2,0,0,0])\n",
    "        q_3 = QH([3,0,0,0])\n",
    "        q_n3 = QH([-3,0,0,0])\n",
    "        q_4 = QH([4,0,0,0])\n",
    "        q_5 = QH([5,0,0,0])\n",
    "        q_6 = QH([6,0,0,0])\n",
    "        q_10 = QH([10,0,0,0])\n",
    "        q_n5 = QH([-5,0,0,0])\n",
    "        q_7 = QH([7,0,0,0])\n",
    "        q_8 = QH([8,0,0,0])\n",
    "        q_9 = QH([9,0,0,0])\n",
    "        q_n11 = QH([-11,0,0,0])\n",
    "        q_21 = QH([21,0,0,0])\n",
    "        q_n34 = QH([-34,0,0,0])\n",
    "        v3 = QHStates([q_3])\n",
    "        v1123 = QHStates([q_1, q_1, q_2, q_3])\n",
    "        v3n1n21 = QHStates([q_3,q_n1,q_n2,q_1])\n",
    "        v9 = QHStates([q_1, q_1, q_2, q_3, q_1, q_1, q_2, q_3, q_2])\n",
    "        v9i = QHStates([QH([0,1,0,0]), QH([0,2,0,0]), QH([0,3,0,0]), QH([0,4,0,0]), QH([0,5,0,0]), QH([0,6,0,0]), QH([0,7,0,0]), QH([0,8,0,0]), QH([0,9,0,0])])\n",
    "        vv9 = v9.add(v9i)\n",
    "        q_1d0 = QH([1.0, 0, 0, 0])\n",
    "        q12 = QHStates([q_1d0, q_1d0])\n",
    "        q14 = QHStates([q_1d0, q_1d0, q_1d0, q_1d0])\n",
    "        q19 = QHStates([q_1d0, q_0, q_1d0, q_1d0, q_1d0, q_1d0, q_1d0, q_1d0, q_1d0])\n",
    "        qn627 = QH([-6,27,0,0])\n",
    "        v33 = QHStates([q_7, q_0, q_n3, q_2, q_3, q_4, q_1, q_n1, q_n2])\n",
    "        v33inv = QHStates([q_n2, q_3, q_9, q_8, q_n11, q_n34, q_n5, q_7, q_21])\n",
    "        q_i3 = QHStates([q_1, q_1, q_1])\n",
    "        q_i2d = QHStates([q_1, q_0, q_0, q_1])\n",
    "        q_i3_bra = QHStates([q_1, q_1, q_1], \"bra\")\n",
    "        q_6_op = QHStates([q_1, q_0, q_0, q_1, q_i, q_i], \"op\")    \n",
    "        q_6_op_32 = QHStates([q_1, q_0, q_0, q_1, q_i, q_i], \"op\", rows=3, columns=2)\n",
    "        q_i2d_op = QHStates([q_1, q_0, q_0, q_1], \"op\")\n",
    "        q_i4 = QH([0,4,0,0])\n",
    "        q_0_q_1 = QHStates([q_0, q_1])\n",
    "        q_1_q_0 = QHStates([q_1, q_0])\n",
    "        q_1_q_i = QHStates([q_1, q_i])\n",
    "        q_1_q_0 = QHStates([q_1, q_0])\n",
    "        q_0_q_i = QHStates([q_0, q_i])\n",
    "        A = QHStates([QH([4,0,0,0]), QH([0,1,0,0])], \"bra\")\n",
    "        B = QHStates([QH([0,0,1,0]), QH([0,0,0,2]), QH([0,3,0,0])])\n",
    "        Op = QHStates([QH([3,0,0,0]), QH([0,1,0,0]), QH([0,0,2,0]), QH([0,0,0,3]), QH([2,0,0,0]), QH([0,4,0,0])], \"op\", rows=2, columns=3)\n",
    "        Op4i = QHStates([q_i4, q_0, q_0, q_i4, q_2, q_3], \"op\", rows=2, columns=3) \n",
    "        Op_scalar = QHStates([q_i4], \"scalar\")\n",
    "        q_1234 = QHStates([QH([1, 1, 0, 0]), QH([2, 1, 0, 0]), QH([3, 1, 0, 0]), QH([4, 1, 0, 0])])\n",
    "        sigma_y = QHStates([QH([1, 0, 0, 0]), QH([0, -1, 0, 0]), QH([0, 1, 0, 0]), QH([-1, 0, 0, 0])])\n",
    "        qn = QHStates([QH([3,0,0,4])])\n",
    "        q_bad = QHStates([q_1], rows=2, columns=3)\n",
    "\n",
    "        b = QHStates([q_1, q_2, q_3], qs_type=\"bra\")\n",
    "        k = QHStates([q_4, q_5, q_6], qs_type=\"ket\")\n",
    "        o = QHStates([q_10], qs_type=\"op\")\n",
    "        \n",
    "        q1234 = QH([1, 2, 3, 4])\n",
    "        q4321 = QH([4, 3, 2, 1])\n",
    "        q2222 = QH([2, 2, 2, 2])\n",
    "        qsmall = QH([.04, 0.2, 0.1, -0.3])\n",
    "        q2_states = QHStates([q1234, qsmall], \"ket\")\n",
    "        \n",
    "        def test_Lorentz_next_rotation(self):\n",
    "            next_rot = Lorentz_next_rotationQS(self.q2_states, QHStates([self.q2222, self.q2222]))\n",
    "            print(\"next_rotation: \", next_rot)\n",
    "            self.assertEqual(next_rot.qs[0].t, 0)\n",
    "            self.assertEqual(next_rot.qs[1].t, 0)\n",
    "            self.assertAlmostEqual(next_rot.norm_squared().qs[0].t, 2)\n",
    "            self.assertFalse(next_rot.qs[0].equals(next_rot.qs[1]))\n",
    "            \n",
    "        def test_Lorentz_next_boost(self):\n",
    "            next_boost = Lorentz_next_boostQS(self.q2_states, QHStates([self.q2222, self.q2222]))\n",
    "            print(\"next_boost: \", next_boost)\n",
    "            self.assertNotEqual(next_boost.qs[0].t, 0)\n",
    "            self.assertNotEqual(next_boost.qs[1].t, 0)\n",
    "            self.assertNotEqual(next_boost.norm_squared().qs[0].t, 2)\n",
    "            self.assertFalse(next_boost.qs[0].equals(next_boost.qs[1]))\n",
    "            boosted_square = self.q2_states.boost_or_rotation(next_boost).square()\n",
    "            q2_states_square = self.q2_states.square()\n",
    "            self.assertAlmostEqual(q2_states_square.qs[0].t, boosted_square.qs[0].t)\n",
    "        \n",
    "\n",
    "    suite = unittest.TestLoader().loadTestsFromModule(TestQHStates())\n",
    "    _results = unittest.TextTestRunner().run(suite);  \n",
    "    "
   ]
  },
  {
   "cell_type": "code",
   "execution_count": null,
   "metadata": {},
   "outputs": [],
   "source": []
  },
  {
   "cell_type": "code",
   "execution_count": null,
   "metadata": {},
   "outputs": [],
   "source": [
    "!pip install pudb"
   ]
  },
  {
   "cell_type": "code",
   "execution_count": 63,
   "metadata": {},
   "outputs": [
    {
     "name": "stdout",
     "output_type": "stream",
     "text": [
      "Oops, check those values again for rows:2 columns:3 dim:1\n"
     ]
    }
   ],
   "source": [
    "q_0 = QH().q_0()\n",
    "q_1 = QH().q_1()\n",
    "q_i = QH().q_i()\n",
    "q_n1 = QH([-1,0,0,0])\n",
    "q_2 = QH([2,0,0,0])\n",
    "q_n2 = QH([-2,0,0,0])\n",
    "q_3 = QH([3,0,0,0])\n",
    "q_n3 = QH([-3,0,0,0])\n",
    "q_4 = QH([4,0,0,0])\n",
    "q_5 = QH([5,0,0,0])\n",
    "q_6 = QH([6,0,0,0])\n",
    "q_10 = QH([10,0,0,0])\n",
    "q_n5 = QH([-5,0,0,0])\n",
    "q_7 = QH([7,0,0,0])\n",
    "q_8 = QH([8,0,0,0])\n",
    "q_9 = QH([9,0,0,0])\n",
    "q_n11 = QH([-11,0,0,0])\n",
    "q_21 = QH([21,0,0,0])\n",
    "q_n34 = QH([-34,0,0,0])\n",
    "v3 = QHStates([q_3])\n",
    "v1123 = QHStates([q_1, q_1, q_2, q_3])\n",
    "v3n1n21 = QHStates([q_3,q_n1,q_n2,q_1])\n",
    "v9 = QHStates([q_1, q_1, q_2, q_3, q_1, q_1, q_2, q_3, q_2])\n",
    "v9i = QHStates([QH([0,1,0,0]), QH([0,2,0,0]), QH([0,3,0,0]), QH([0,4,0,0]), QH([0,5,0,0]), QH([0,6,0,0]), QH([0,7,0,0]), QH([0,8,0,0]), QH([0,9,0,0])])\n",
    "vv9 = v9.add(v9i)\n",
    "q_1d0 = QH([1.0, 0, 0, 0])\n",
    "q12 = QHStates([q_1d0, q_1d0])\n",
    "q14 = QHStates([q_1d0, q_1d0, q_1d0, q_1d0])\n",
    "q19 = QHStates([q_1d0, q_0, q_1d0, q_1d0, q_1d0, q_1d0, q_1d0, q_1d0, q_1d0])\n",
    "qn627 = QH([-6,27,0,0])\n",
    "v33 = QHStates([q_7, q_0, q_n3, q_2, q_3, q_4, q_1, q_n1, q_n2])\n",
    "v33inv = QHStates([q_n2, q_3, q_9, q_8, q_n11, q_n34, q_n5, q_7, q_21])\n",
    "q_i3 = QHStates([q_1, q_1, q_1])\n",
    "q_i2d = QHStates([q_1, q_0, q_0, q_1])\n",
    "q_i3_bra = QHStates([q_1, q_1, q_1], \"bra\")\n",
    "q_6_op = QHStates([q_1, q_0, q_0, q_1, q_i, q_i], \"op\")    \n",
    "q_6_op_32 = QHStates([q_1, q_0, q_0, q_1, q_i, q_i], \"op\", rows=3, columns=2)\n",
    "q_i2d_op = QHStates([q_1, q_0, q_0, q_1], \"op\")\n",
    "q_i4 = QH([0,4,0,0])\n",
    "q_0_q_1 = QHStates([q_0, q_1])\n",
    "q_1_q_0 = QHStates([q_1, q_0])\n",
    "q_1_q_i = QHStates([q_1, q_i])\n",
    "q_1_q_0 = QHStates([q_1, q_0])\n",
    "q_0_q_i = QHStates([q_0, q_i])\n",
    "A = QHStates([QH([4,0,0,0]), QH([0,1,0,0])], \"bra\")\n",
    "B = QHStates([QH([0,0,1,0]), QH([0,0,0,2]), QH([0,3,0,0])])\n",
    "Op = QHStates([QH([3,0,0,0]), QH([0,1,0,0]), QH([0,0,2,0]), QH([0,0,0,3]), QH([2,0,0,0]), QH([0,4,0,0])], \"op\", rows=2, columns=3)\n",
    "Op4i = QHStates([q_i4, q_0, q_0, q_i4, q_2, q_3], \"op\", rows=2, columns=3) \n",
    "Op_scalar = QHStates([q_i4], \"scalar\")\n",
    "q_1234 = QHStates([QH([1, 1, 0, 0]), QH([2, 1, 0, 0]), QH([3, 1, 0, 0]), QH([4, 1, 0, 0])])\n",
    "sigma_y = QHStates([QH([1, 0, 0, 0]), QH([0, -1, 0, 0]), QH([0, 1, 0, 0]), QH([-1, 0, 0, 0])])\n",
    "qn = QHStates([QH([3,0,0,4])])\n",
    "q_bad = QHStates([q_1], rows=2, columns=3)\n",
    "\n",
    "b = QHStates([q_1, q_2, q_3], qs_type=\"bra\")\n",
    "k = QHStates([q_4, q_5, q_6], qs_type=\"ket\")\n",
    "o = QHStates([q_10], qs_type=\"op\")\n",
    "\n",
    "q1234 = QH([1, 2, 3, 4])\n",
    "q4321 = QH([4, 3, 2, 1])\n",
    "q2222 = QH([2, 2, 2, 2])\n",
    "qsmall = QH([.04, 0.2, 0.1, -0.3])\n",
    "q2_states = QHStates([q1234, qsmall], \"ket\")"
   ]
  },
  {
   "cell_type": "code",
   "execution_count": 64,
   "metadata": {},
   "outputs": [
    {
     "ename": "AttributeError",
     "evalue": "'QH' object has no attribute 'dim'",
     "output_type": "error",
     "traceback": [
      "\u001b[0;31m---------------------------------------------------------------------------\u001b[0m",
      "\u001b[0;31mAttributeError\u001b[0m                            Traceback (most recent call last)",
      "\u001b[0;32m<ipython-input-64-aa149d04896f>\u001b[0m in \u001b[0;36m<module>\u001b[0;34m\u001b[0m\n\u001b[0;32m----> 1\u001b[0;31m \u001b[0mnext_rot\u001b[0m \u001b[0;34m=\u001b[0m \u001b[0mLorentz_next_rotationQS\u001b[0m\u001b[0;34m(\u001b[0m\u001b[0mq2_states\u001b[0m\u001b[0;34m,\u001b[0m \u001b[0mq2222\u001b[0m\u001b[0;34m)\u001b[0m\u001b[0;34m\u001b[0m\u001b[0;34m\u001b[0m\u001b[0m\n\u001b[0m\u001b[1;32m      2\u001b[0m \u001b[0mnext_rot\u001b[0m\u001b[0;34m.\u001b[0m\u001b[0mprint_state\u001b[0m\u001b[0;34m(\u001b[0m\u001b[0;34m\"next_rot\"\u001b[0m\u001b[0;34m)\u001b[0m\u001b[0;34m\u001b[0m\u001b[0;34m\u001b[0m\u001b[0m\n",
      "\u001b[0;32m<ipython-input-62-de2962e909a7>\u001b[0m in \u001b[0;36mLorentz_next_rotationQS\u001b[0;34m(self, q1)\u001b[0m\n\u001b[1;32m      2\u001b[0m     \u001b[0;34m\"\"\"Does multiple rotations of a QHState given another QHState of equal dimensions.\"\"\"\u001b[0m\u001b[0;34m\u001b[0m\u001b[0;34m\u001b[0m\u001b[0m\n\u001b[1;32m      3\u001b[0m \u001b[0;34m\u001b[0m\u001b[0m\n\u001b[0;32m----> 4\u001b[0;31m     \u001b[0;32mif\u001b[0m \u001b[0mself\u001b[0m\u001b[0;34m.\u001b[0m\u001b[0mdim\u001b[0m \u001b[0;34m!=\u001b[0m \u001b[0mq1\u001b[0m\u001b[0;34m.\u001b[0m\u001b[0mdim\u001b[0m\u001b[0;34m:\u001b[0m\u001b[0;34m\u001b[0m\u001b[0;34m\u001b[0m\u001b[0m\n\u001b[0m\u001b[1;32m      5\u001b[0m         \u001b[0mprint\u001b[0m\u001b[0;34m(\u001b[0m\u001b[0;34m\"Oops, this tool requires 2 quaternion states with the same number of dimensions.\"\u001b[0m\u001b[0;34m)\u001b[0m\u001b[0;34m\u001b[0m\u001b[0;34m\u001b[0m\u001b[0m\n\u001b[1;32m      6\u001b[0m         \u001b[0;32mreturn\u001b[0m \u001b[0mnull\u001b[0m\u001b[0;34m\u001b[0m\u001b[0;34m\u001b[0m\u001b[0m\n",
      "\u001b[0;31mAttributeError\u001b[0m: 'QH' object has no attribute 'dim'"
     ]
    }
   ],
   "source": [
    "\n",
    "next_rot = Lorentz_next_rotationQS(q2_states, q2222)\n",
    "next_rot.print_state(\"next_rot\")"
   ]
  },
  {
   "cell_type": "code",
   "execution_count": null,
   "metadata": {},
   "outputs": [],
   "source": [
    "for ket in q2_states.qs:\n",
    "    ket.print_state(\"qs\")"
   ]
  },
  {
   "cell_type": "code",
   "execution_count": null,
   "metadata": {},
   "outputs": [],
   "source": [
    "next_rot = Lorentz_next_boostQS(q2_states, q2222)\n",
    "next_rot.print_state(\"next_rot\")"
   ]
  },
  {
   "cell_type": "code",
   "execution_count": null,
   "metadata": {},
   "outputs": [],
   "source": [
    "Lorentz_next_boostQS(q2_states, q2222).norm_squared().print_state(\"boost norm\")"
   ]
  },
  {
   "cell_type": "code",
   "execution_count": null,
   "metadata": {},
   "outputs": [],
   "source": []
  }
 ],
 "metadata": {
  "kernelspec": {
   "display_name": "Python 3",
   "language": "python",
   "name": "python3"
  },
  "language_info": {
   "codemirror_mode": {
    "name": "ipython",
    "version": 3
   },
   "file_extension": ".py",
   "mimetype": "text/x-python",
   "name": "python",
   "nbconvert_exporter": "python",
   "pygments_lexer": "ipython3",
   "version": "3.7.3"
  }
 },
 "nbformat": 4,
 "nbformat_minor": 4
}
