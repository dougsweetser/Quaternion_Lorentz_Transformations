{
 "cells": [
  {
   "cell_type": "markdown",
   "metadata": {},
   "source": [
    "# Lorentz matrix doodles"
   ]
  },
  {
   "cell_type": "markdown",
   "metadata": {},
   "source": [
    "Idea: see what it takes to do things \"just like a Lorentz matrix.\""
   ]
  },
  {
   "cell_type": "code",
   "execution_count": null,
   "metadata": {},
   "outputs": [],
   "source": [
    "%%capture\n",
    "%matplotlib inline\n",
    "import numpy as np\n",
    "import sympy as sp\n",
    "import matplotlib.pyplot as plt\n",
    "import math\n",
    "import unittest\n",
    "from copy import deepcopy\n",
    "import pudb\n",
    "\n",
    "# To get equations the look like, well, equations, use the following.\n",
    "from sympy.interactive import printing\n",
    "printing.init_printing(use_latex=True)\n",
    "from IPython.display import display\n",
    "\n",
    "# Tools for manipulating quaternions written by D. Sweetser.\n",
    "from QH import QH, QHStates\n",
    "\n",
    "from IPython.core.display import display, HTML, Math, Latex\n",
    "display(HTML(\"<style>.container { width:100% !important; }</style>\"))"
   ]
  },
  {
   "cell_type": "code",
   "execution_count": null,
   "metadata": {},
   "outputs": [],
   "source": [
    "t, x, y, z = sp.symbols(\"t x y z\")"
   ]
  },
  {
   "cell_type": "code",
   "execution_count": null,
   "metadata": {},
   "outputs": [],
   "source": [
    "v_txyz = sp.Matrix([t,x,y,z])"
   ]
  },
  {
   "cell_type": "code",
   "execution_count": null,
   "metadata": {},
   "outputs": [],
   "source": [
    "Lyx = sp.Matrix([[1, 0, 0, 0],\n",
    "                 [0, 0, -1, 0],\n",
    "                 [0, 1, 0, 0],\n",
    "                 [0, 0, 0, 1]])\n",
    "display(Lyx)\n",
    "display(Lyx * v_txyz)"
   ]
  },
  {
   "cell_type": "markdown",
   "metadata": {},
   "source": [
    "Notice that each term is algebraically isolated from the others. To do this with quaternions, the same thing must be done - terms must be isolated from each other. This can be done using the three conjugates and a function to flip signs. For t, one uses the standard conjugates. To isolate x and y needs the action of the first and second conjugates. TO get z, all three conjugates and the sign flip."
   ]
  },
  {
   "cell_type": "code",
   "execution_count": null,
   "metadata": {},
   "outputs": [],
   "source": [
    "q_txyz = QH([t, x, y, z])"
   ]
  },
  {
   "cell_type": "code",
   "execution_count": null,
   "metadata": {},
   "outputs": [],
   "source": [
    "q_txyz.add(q_txyz.conj()).print_state(\"2 t\")\n",
    "q_txyz.add(q_txyz.conj(1)).print_state(\"2 x\")\n",
    "q_txyz.add(q_txyz.conj(2)).print_state(\"2 y\")\n",
    "q_txyz.add(q_txyz.conj().conj(1).conj(2).flip_signs()).print_state(\"2 z\")"
   ]
  },
  {
   "cell_type": "markdown",
   "metadata": {},
   "source": [
    "Now twist the $x$ and $y$ states with a product with $k$."
   ]
  },
  {
   "cell_type": "code",
   "execution_count": null,
   "metadata": {},
   "outputs": [],
   "source": [
    "q_txyz.add(q_txyz.conj(1)).product(QH().q_k(-1)).print_state(\"2 x\")\n",
    "q_txyz.add(q_txyz.conj(2)).product(QH().q_k(-1)).print_state(\"2 y\")"
   ]
  },
  {
   "cell_type": "markdown",
   "metadata": {},
   "source": [
    "Just add it all up."
   ]
  },
  {
   "cell_type": "code",
   "execution_count": null,
   "metadata": {},
   "outputs": [],
   "source": [
    "q_txyz.add(q_txyz.conj()).add(q_txyz.add(q_txyz.conj(1)).product(QH().q_k(-1))).add(q_txyz.add(q_txyz.conj(2)).product(QH().q_k(-1))).add(q_txyz.add(q_txyz.conj().conj(1).conj(2).flip_signs())).product(QH().q_1(1/2)).display_q(\"tyxz\")"
   ]
  },
  {
   "cell_type": "code",
   "execution_count": null,
   "metadata": {},
   "outputs": [],
   "source": [
    "q_i = QH().q_i()\n",
    "q_i_exp = q_i.exp()\n",
    "q_i_exp.print_state(\"e^i\")"
   ]
  },
  {
   "cell_type": "code",
   "execution_count": null,
   "metadata": {},
   "outputs": [],
   "source": [
    "print(\"arccosh: \", np.arccosh(q_i_exp.t))\n",
    "print(\"arcsinh: \", np.arcsinh(q_i_exp.x))"
   ]
  },
  {
   "cell_type": "code",
   "execution_count": null,
   "metadata": {},
   "outputs": [],
   "source": [
    "print(\"arccosh: \", np.cosh(q_i_exp.t))\n",
    "print(\"arcsinh: \", np.sinh(q_i_exp.x))"
   ]
  },
  {
   "cell_type": "code",
   "execution_count": null,
   "metadata": {},
   "outputs": [],
   "source": [
    "q_i_exp.norm_squared().print_state(\"|e^i|^2\")"
   ]
  },
  {
   "cell_type": "code",
   "execution_count": null,
   "metadata": {},
   "outputs": [],
   "source": [
    "qv = QH([0, 3, 1, 2]).normalize()\n",
    "qv.print_state(\"qv\")"
   ]
  },
  {
   "cell_type": "code",
   "execution_count": null,
   "metadata": {},
   "outputs": [],
   "source": [
    "q_txyz_qv = q_txyz.boost_or_rotation(qv)\n",
    "q_txyz_qv.print_state(\"q_txyz_qv\")"
   ]
  },
  {
   "cell_type": "code",
   "execution_count": null,
   "metadata": {},
   "outputs": [],
   "source": [
    "qb_2 = q_txyz_qv.product(q_txyz_qv).simple_q()\n",
    "qb_2.print_state(\"qb_2\")"
   ]
  },
  {
   "cell_type": "code",
   "execution_count": null,
   "metadata": {},
   "outputs": [],
   "source": [
    "np.set_printoptions(suppress=True)\n",
    "q_txyz_qv_exp = q_txyz.boost_or_rotation(qv.exp().normalize(np.sqrt(1/0.415008189568194)))\n",
    "q_txyz_qv_exp.print_state(\"q_txyz_qv_exp\")\n",
    "qb_2_exp = q_txyz_qv_exp.product(q_txyz_qv_exp).simple_q()\n",
    "qb_2_exp.print_state(\"qb_exp_2\")"
   ]
  },
  {
   "cell_type": "markdown",
   "metadata": {},
   "source": [
    "Demonstrate numerically that the vector normalized cross product does a rotation."
   ]
  },
  {
   "cell_type": "code",
   "execution_count": null,
   "metadata": {},
   "outputs": [],
   "source": [
    "q1234_n = QH([1, 2, 3, 4]).vector().normalize()\n",
    "q4321_n = QH([4, 3, -2, 1]).vector().normalize()"
   ]
  },
  {
   "cell_type": "code",
   "execution_count": null,
   "metadata": {},
   "outputs": [],
   "source": [
    "q1234_n.print_state(\"q1234_n\")\n",
    "q1234_n.norm_squared().print_state(\"|q1234_n|^2\")\n",
    "q4321_n.print_state(\"q4321_n\")\n",
    "q4321_n.norm_squared().print_state(\"|q4321_n|^2\")"
   ]
  },
  {
   "cell_type": "code",
   "execution_count": null,
   "metadata": {},
   "outputs": [],
   "source": [
    "q_234x432_n = q1234_n.product(q4321_n, kind=\"odd\").vector().normalize()"
   ]
  },
  {
   "cell_type": "code",
   "execution_count": null,
   "metadata": {},
   "outputs": [],
   "source": [
    "q_2244 = QH([2, 2, 4, 4])\n",
    "q_2244_sq = q_2244.square()\n",
    "q_2244_sq.print_state(\"q_2244 sq\")"
   ]
  },
  {
   "cell_type": "code",
   "execution_count": null,
   "metadata": {},
   "outputs": [],
   "source": [
    "q_2244_b_q_1234_n = q_2244.boost_or_rotation(q1234_n)\n",
    "q_2244_b_q_1234_n.print_state(\"q_2244_b_q_1234_n\")\n",
    "q_2244_b_q_1234_n.square().print_state(\"q_2244_b_q_1234_n sq\")\n",
    "\n",
    "q_2244_b_q_4321_n = q_2244.boost_or_rotation(q4321_n)\n",
    "q_2244_b_q_4321_n.print_state(\"q_2244_b_q_4321_n\")\n",
    "q_2244_b_q_4321_n.square().print_state(\"q_2244_b_q_4321_n sq\")\n",
    "\n",
    "q_2244_b_q_234x432_n = q_2244.boost_or_rotation(q_234x432_n)\n",
    "q_2244_b_q_234x432_n.print_state(\"q_2244_b_q_234x432_n\")\n",
    "q_2244_b_q_234x432_n.square().print_state(\"q_2244_b_q_234x432_n sq\")"
   ]
  },
  {
   "cell_type": "markdown",
   "metadata": {},
   "source": [
    "These three rotations all work as expected. The first term is fixed at the value 2.0, plus or minus some numerical error. The directions pointed to are all over the map. Yet the first term of the square is always -32.0 with numerical error."
   ]
  },
  {
   "cell_type": "markdown",
   "metadata": {},
   "source": [
    "Now see if boosts can be done..."
   ]
  },
  {
   "cell_type": "code",
   "execution_count": null,
   "metadata": {},
   "outputs": [],
   "source": [
    "q_2244_b_q_1234_n_exp = q_2244.boost_or_rotation(q1234_n.exp())\n",
    "q_2244_b_q_1234_n_exp.print_state(\"q_2244_b_q_1234_exp_n\")\n",
    "q_2244_b_q_1234_n_exp.square().print_state(\"q_2244_b_q_1234_exp_n sq\")"
   ]
  },
  {
   "cell_type": "code",
   "execution_count": null,
   "metadata": {},
   "outputs": [],
   "source": [
    "q_2244_b_q_1234_n_exp_n = q_2244.boost_or_rotation(q1234_n.exp().normalize())\n",
    "q_2244_b_q_1234_n_exp_n.print_state(\"q_2244_b_q_1234_exp_n\")\n",
    "q_2244_b_q_1234_n_exp_n.square().print_state(\"q_2244_b_q_1234_exp_n sq\")"
   ]
  },
  {
   "cell_type": "markdown",
   "metadata": {},
   "source": [
    "Not even close. Need to do something so 1st term > 1.0."
   ]
  },
  {
   "cell_type": "code",
   "execution_count": null,
   "metadata": {},
   "outputs": [],
   "source": [
    "q1234_n.exp().print_state(\"q1234_n_exp\")\n",
    "q1234_n.exp().norm_squared().print_state(\"|q123_or_rotation4_n_exp|^2\")"
   ]
  },
  {
   "cell_type": "code",
   "execution_count": null,
   "metadata": {},
   "outputs": [],
   "source": [
    "q1234_n.exp().print_state(\"q1234_n_exp\")\n",
    "q1234_n.ln().print_state(\"q1234_n_ln\")\n",
    "q1234_n.cos().print_state(\"q1234_n_cos\")\n",
    "q1234_n.sin().print_state(\"q1234_n_sin\")\n",
    "q1234_n.cosh().print_state(\"q1234_n_cosh\")\n",
    "q1234_n.sinh().print_state(\"q1234_n_sinh\")\n",
    "#q1234_n.acos().print_state(\"q1234_n_acos\")\n",
    "#q1234_n.asin().print_state(\"q1234_n_asin\")\n",
    "#q1234_n.acosh().print_state(\"q1234_n_acosh\")\n",
    "#q1234_n.asinh().print_state(\"q1234_n_asinh\")"
   ]
  },
  {
   "cell_type": "code",
   "execution_count": null,
   "metadata": {},
   "outputs": [],
   "source": [
    "q_1234_n_asin = QH([0.000000, 0.327334, 0.491001, 0.654668])\n",
    "q_1234_n_acos = QH([1.190426, -0.259756, -1.209502, 0.095389])\n",
    "q_1234_n_asinh = QH([0.000000, 0.583379, 0.875069, 1.166758])\n",
    "q_1234_n_acosh = QH([0.699414, 1.393649, 0.434801, 0.579735])"
   ]
  },
  {
   "cell_type": "code",
   "execution_count": null,
   "metadata": {},
   "outputs": [],
   "source": [
    "q_2244_b_q_1234_acos = q_2244.boost_or_rotation(q_1234_n_acos)\n",
    "q_2244_b_q_1234_acos.print_state(\"q_2244_b_q_1234_acos\")\n",
    "q_2244_b_q_1234_acos.square().print_state(\"q_2244_b_q_1234_acos sq\")"
   ]
  },
  {
   "cell_type": "code",
   "execution_count": null,
   "metadata": {},
   "outputs": [],
   "source": [
    "q_2244_b_q_1234_acos_n = q_2244.boost_or_rotation(q_1234_n_acos.normalize())\n",
    "q_2244_b_q_1234_acos_n.print_state(\"q_2244_b_q_1234_acos_n\")\n",
    "q_2244_b_q_1234_acos_n.square().print_state(\"q_2244_b_q_1234_acos_n sq\")"
   ]
  },
  {
   "cell_type": "code",
   "execution_count": null,
   "metadata": {},
   "outputs": [],
   "source": [
    "q_2244_b_cs = q_2244.boost_or_rotation(QH([np.cosh(2), np.sinh(2),0,0]))\n",
    "q_2244_b_cs.print_state(\"q_2244_b_cs_n\")\n",
    "q_2244_b_cs.square().print_state(\"q_2244_b_cs sq\")"
   ]
  },
  {
   "cell_type": "code",
   "execution_count": null,
   "metadata": {},
   "outputs": [],
   "source": [
    "q_2244_b_cs = q_2244.boost_or_rotation(QH([0.699414, 0.583379, 0.875069, 1.166758]))\n",
    "q_2244_b_cs.print_state(\"q_2244_b_cs_n\")\n",
    "q_2244_b_cs.square().print_state(\"q_2244_b_cs sq\")"
   ]
  },
  {
   "cell_type": "code",
   "execution_count": null,
   "metadata": {},
   "outputs": [],
   "source": [
    "q_2244_b_cs = q_2244.boost_or_rotation(QH([1.190426, 0.3713906763541038, 0.5570860145311557, 0.7427813527082]))\n",
    "q_2244_b_cs.print_state(\"q_2244_b_cs_n\")\n",
    "q_2244_b_cs.square().print_state(\"q_2244_b_cs sq\")"
   ]
  },
  {
   "cell_type": "code",
   "execution_count": null,
   "metadata": {},
   "outputs": [],
   "source": [
    "q_2244_b_cs = q_2244.boost_or_rotation(QH([1.190426, 0.583379, 0.875069, 1.166758]))\n",
    "q_2244_b_cs.print_state(\"q_2244_b_cs_n\")\n",
    "q_2244_b_cs.square().print_state(\"q_2244_b_cs sq\")"
   ]
  },
  {
   "cell_type": "markdown",
   "metadata": {},
   "source": [
    "Try $(\\exp(a) + \\exp(-a))/2$, $(\\exp(a) - \\exp(-a))/2$ "
   ]
  },
  {
   "cell_type": "code",
   "execution_count": null,
   "metadata": {},
   "outputs": [],
   "source": [
    "exp_a = q1234_n.exp()\n",
    "exp_ac = q1234_n.conj().exp()\n",
    "exp_sum = exp_a.add(exp_ac).product(QH([1, 0, 0, 0]))\n",
    "exp_dif = exp_a.dif(exp_ac).product(QH([1, 0, 0, 0]))\n",
    "exp_sum.print_state(\"exp sum\")\n",
    "exp_dif.print_state(\"exp_dif\")"
   ]
  },
  {
   "cell_type": "code",
   "execution_count": null,
   "metadata": {},
   "outputs": [],
   "source": [
    "exp_a.print_state(\"exp_a\")\n",
    "exp_ac.print_state(\"exp_ac\")\n",
    "exp_sum.print_state(\"exp_sum\")\n",
    "exp_dif.print_state(\"exp_dif\")"
   ]
  },
  {
   "cell_type": "code",
   "execution_count": null,
   "metadata": {},
   "outputs": [],
   "source": [
    "q_2244_b_exp_sum_dif = q_2244.boost_or_rotation(exp_sum.add(exp_dif))\n",
    "q_2244_b_exp_sum_dif.print_state(\"q_2244_b_exp_sum_dif\")\n",
    "q_2244_b_exp_sum_dif.square().print_state(\"q_2244_b_exp_sum_dif\")"
   ]
  },
  {
   "cell_type": "code",
   "execution_count": null,
   "metadata": {},
   "outputs": [],
   "source": [
    "q1234_n.print_state(\"q_1234_n\")"
   ]
  },
  {
   "cell_type": "markdown",
   "metadata": {},
   "source": [
    "Take each term separately and invert it."
   ]
  },
  {
   "cell_type": "code",
   "execution_count": null,
   "metadata": {},
   "outputs": [],
   "source": [
    "1/0.3713906763541038\n",
    "1/0.5570860145311557\n",
    "1/0.7427813527082076"
   ]
  },
  {
   "cell_type": "markdown",
   "metadata": {},
   "source": [
    "To calculate the hyperbolic cosine, one needs the sum/even part of an exponential of a real number:\n",
    "\n",
    "$$\\cosh(x) = \\frac{e^{x}+e^{-x}}{2}$$\n",
    "\n",
    "whereas sinh(x) is the difference:\n",
    "\n",
    "$$\\sinh(x) = \\frac{e^{x}-e^{-x}}{2}$$"
   ]
  },
  {
   "cell_type": "code",
   "execution_count": null,
   "metadata": {},
   "outputs": [],
   "source": [
    "xsum=(np.exp(2.692582403567252)+np.exp(-2.692582403567252))/2\n",
    "xdif=(np.exp(2.692582403567252)-np.exp(-2.692582403567252))/2\n",
    "print(\"xsum: \", xsum)\n",
    "print(\"xdif: \", xdif)"
   ]
  },
  {
   "cell_type": "markdown",
   "metadata": {},
   "source": [
    "Use the sum and the difference to create a boost quaternion, one that is a combination of a xsum and i xdif."
   ]
  },
  {
   "cell_type": "code",
   "execution_count": null,
   "metadata": {},
   "outputs": [],
   "source": [
    "qboost = QH([xsum, 0, 0, 0]).add(q1234_n.product(QH([xdif,0,0,0])))\n",
    "qboost.print_state(\"qboost\")"
   ]
  },
  {
   "cell_type": "code",
   "execution_count": null,
   "metadata": {},
   "outputs": [],
   "source": [
    "q_2244_b_qboost = q_2244.boost_or_rotation(qboost)\n",
    "q_2244_b_qboost.print_state(\"q_2244_b_qboost\")\n",
    "q_2244_b_qboost.square().print_state(\"q_2244_b_q_boost\")"
   ]
  },
  {
   "cell_type": "code",
   "execution_count": null,
   "metadata": {},
   "outputs": [],
   "source": [
    "q1234_n.add(q1234_n.conj(1)).print_state(\"q1234_n + *1\")\n",
    "q1234_n.add(q1234_n.conj(1)).inverse().print_state(\"q1234_n + *1 inv\")\n",
    "q1234_n.add(q1234_n.conj(1)).inverse().product(QH().q_i()).print_state(\"q1234_n + *1 inv i\")"
   ]
  },
  {
   "cell_type": "code",
   "execution_count": null,
   "metadata": {},
   "outputs": [],
   "source": [
    "QH().q_0().add(QH().q_0().conj(1)).inverse().print_state(\"0 + *1 inv\")"
   ]
  },
  {
   "cell_type": "code",
   "execution_count": null,
   "metadata": {},
   "outputs": [],
   "source": [
    "def Lorentz_next_rotation(q1, q2):\n",
    "    \"\"\"Given 2 quaternions, creates a new quaternion to do a rotation\n",
    "       in the triple triple quaternion function by using a normalized cross product.\"\"\"\n",
    "    \n",
    "    next_rotation = q1.product(q2, kind=\"odd\").normalize()\n",
    "    \n",
    "    # If the 2 quaternions point in exactly the same direction, the result is zoro.\n",
    "    # That is unacceptable for closure, so return the normalized vector of one input.\n",
    "    # This does create some ambiguity since q1 and q2 could point in exactly opposite\n",
    "    # directions. In that case, the first quaternion is always chosen.\n",
    "    v_norm = next_rotation.norm_squared_of_vector()\n",
    "    \n",
    "    if v_norm.t == 0:\n",
    "        next_rotation = q1.vector().normalize()\n",
    "\n",
    "    return next_rotation\n",
    "\n",
    "def Lorentz_next_boost(q1, q2):\n",
    "    \"\"\"Given 2 quaternions, creates a new quaternion to do a boost/rotation\n",
    "       using the triple triple quaternion product\n",
    "       by using the scalar of an even product to form (cosh(x), i sinh(x)).\"\"\"\n",
    "    \n",
    "    q_even = q1.product(q2, kind=\"even\")\n",
    "    q_s = q_even.scalar()\n",
    "    q_v = q_even.vector().normalize()\n",
    "    \n",
    "    if np.abs(q_s.t) > 1:\n",
    "        q_s = q_s.inverse()\n",
    "    \n",
    "    exp_sum = q_s.exp().add(q_s.flip_signs().exp()).product(QH().q_1(1/2))\n",
    "    exp_dif = q_s.exp().dif(q_s.flip_signs().exp()).product(QH().q_1(1/2))\n",
    "    \n",
    "    boost = exp_sum.add(q_v.product(exp_dif))\n",
    "    \n",
    "    return boost\n",
    "\n",
    "if __name__ == \"__main__\":\n",
    "    class TestLorentz(unittest.TestCase):\n",
    "    \n",
    "        Q = QH([1, -2, -3, -4], qtype=\"Q\")\n",
    "        P = QH([0, 4, -3, 0], qtype=\"P\")\n",
    "        R = QH([3, 0, 0, 0], qtype=\"R\")\n",
    "        C = QH([2, 4, 0, 0], qtype=\"C\")\n",
    "        q4321 = QH([4, 3, 2, 1])\n",
    "        q2244 = QH([2, 2, 4, 4])\n",
    "        \n",
    "        t, x, y, z = sp.symbols(\"t x y z\")\n",
    "        q_sym = QH([t, x, y, x * y * z])\n",
    "        \n",
    "        def test_Lorentz_next_rotation(self):\n",
    "            next_rotation = Lorentz_next_rotation(self.Q, self.q4321)\n",
    "            print(\"next_rotation: \", next_rotation)\n",
    "            self.assertEqual(next_rotation.t, 0)\n",
    "            rot = self.q2244.boost_or_rotation(next_rotation)\n",
    "            self.assertEqual(rot.t, 2)\n",
    "            self.assertAlmostEqual(rot.square().t, self.q2244.square().t)\n",
    "            next_rotation = Lorentz_next_rotation(self.Q, self.Q)\n",
    "            self.assertTrue(next_rotation.equals(self.Q.vector().normalize()))\n",
    "            \n",
    "            \n",
    "        def test_Lorentz_next_boost(self):\n",
    "            next_boost = Lorentz_next_boost(self.Q, self.q4321)\n",
    "            print(\"next_boost: \", next_boost)\n",
    "            self.assertNotEqual(next_boost.t, 0)\n",
    "            boost = self.q2244.boost_or_rotation(next_boost)\n",
    "            self.assertAlmostEqual(boost.square().t, self.q2244.square().t)\n",
    "            \n",
    "    suite = unittest.TestLoader().loadTestsFromModule(TestLorentz())\n",
    "    _results = unittest.TextTestRunner().run(suite); \n",
    "\n",
    "qnext = Lorentz_next_rotation(QH([1, 2, 3, 4]), QH([4, 3, 2, 5]))\n",
    "qnext.print_state(\"qnext\")\n",
    "q_2244_b_qnext = q_2244.boost_or_rotation(qnext)\n",
    "q_2244_b_qnext.print_state(\"q_2244_b_qnext\")\n",
    "q_2244_b_qnext.square().print_state(\"q_2244_b_qnext\")"
   ]
  },
  {
   "cell_type": "code",
   "execution_count": null,
   "metadata": {},
   "outputs": [],
   "source": [
    "qnext = Lorentz_next_rotation(QH([1, 2, 3, 4]), QH([4, 2, 3, 4]))\n",
    "qnext.print_state(\"qnext\")\n",
    "q_2244_b_qnext = q_2244.boost_or_rotation(qnext)\n",
    "q_2244_b_qnext.print_state(\"q_2244_b_qnext\")\n",
    "q_2244_b_qnext.square().print_state(\"q_2244_b_qnext\")"
   ]
  },
  {
   "cell_type": "code",
   "execution_count": null,
   "metadata": {},
   "outputs": [],
   "source": []
  },
  {
   "cell_type": "code",
   "execution_count": null,
   "metadata": {},
   "outputs": [],
   "source": [
    "qnext = Lorentz_next_boost(QH([1, 2, 3, 4]), QH([4, 3, 2, 1]))\n",
    "qnext.print_state(\"qnext boost\")\n",
    "q_2244_b_qnext = q_2244.boost_or_rotation(qnext)\n",
    "q_2244_b_qnext.print_state(\"q_2244_b_qnext\")\n",
    "q_2244_b_qnext.square().print_state(\"q_2244_b_qnext sq\")"
   ]
  },
  {
   "cell_type": "code",
   "execution_count": null,
   "metadata": {},
   "outputs": [],
   "source": [
    "QH().q_i().product(QH().q_j(), kind=\"even\").print_state(\"ij\")"
   ]
  },
  {
   "cell_type": "code",
   "execution_count": null,
   "metadata": {},
   "outputs": [],
   "source": [
    "def Lorentz_next(q1, q2):\n",
    "    \"\"\"Do both since both work, combine at the end.\"\"\"\n",
    "    \n",
    "    rotation = Lorentz_next_rotation(q1, q2)\n",
    "    rotation.print_state(\"rotation is:\")\n",
    "    boost = Lorentz_next_boost(q1, q2)\n",
    "    boost.print_state(\"boost is:\")\n",
    "    rotation_boost = boost.product(rotation).normalize()\n",
    "    \n",
    "    return rotation_boost\n",
    "\n",
    "qnext = Lorentz_next(QH([1, 2, 3, 4]), QH([4, 3, 2, 1]))\n",
    "qnext.print_state(\"qnext rotation & boost\")\n",
    "q_2244_b_qnext = q_2244.boost_or_rotation(qnext)\n",
    "q_2244_b_qnext.print_state(\"q_2244_b_qnext\")\n",
    "q_2244_b_qnext.square().print_state(\"q_2244_b_qnext sq\")"
   ]
  },
  {
   "cell_type": "code",
   "execution_count": null,
   "metadata": {},
   "outputs": [],
   "source": [
    "qnext = Lorentz_next_boost(QH([.1, .2, .03, .04]), QH([.04, .3, .2, .1]))\n",
    "qnext.print_state(\"qnext boost\")\n",
    "q_2244_b_qnext = q_2244.boost_or_rotation(qnext)\n",
    "q_2244_b_qnext.print_state(\"q_2244_b_qnext\")\n",
    "q_2244_b_qnext.square().print_state(\"q_2244_b_qnext sq\")"
   ]
  },
  {
   "cell_type": "code",
   "execution_count": null,
   "metadata": {},
   "outputs": [],
   "source": [
    "qnext = Lorentz_next_boost(QH([.1, .2, .03, .04]), QH([.04, .3, .2, .1]))\n",
    "qnext.print_state(\"qnext boost\")\n",
    "q_2244_b_qnext = q_2244.boost_or_rotation(qnext)\n",
    "q_2244_b_qnext.print_state(\"q_2244_b_qnext\")\n",
    "q_2244_b_qnext.square().print_state(\"q_2244_b_qnext sq\")"
   ]
  },
  {
   "cell_type": "code",
   "execution_count": null,
   "metadata": {},
   "outputs": [],
   "source": [
    "  "
   ]
  },
  {
   "cell_type": "code",
   "execution_count": null,
   "metadata": {},
   "outputs": [],
   "source": [
    "def Lorentz_next_rotationQS(self, q1):\n",
    "    \"\"\"Does multiple rotations of a QHState given another QHState of equal dimensions.\"\"\"\n",
    "    \n",
    "    if self.dim != q1.dim:\n",
    "        print(\"Oops, this tool requires 2 quaternion states with the same number of dimensions.\")\n",
    "        return null\n",
    "    \n",
    "    new_states = []\n",
    "        \n",
    "    for ket, q in zip(self.qs, q1.qs):\n",
    "        new_states.append(Lorentz_next_rotation(ket, q))\n",
    "            \n",
    "    return QHStates(new_states, qs_type=self.qs_type, rows=self.rows, columns=self.columns)\n",
    "   \n",
    "\n",
    "def Lorentz_next_boostQS(self, q1):\n",
    "    \"\"\"Does multiple boosts of a QHState given another QHState of equal dimensions.\"\"\"\n",
    "          \n",
    "    if self.dim != q1.dim:\n",
    "        print(\"Oops, this tool requires 2 quaternion states with the same number of dimensions.\")\n",
    "        return null\n",
    "                      \n",
    "    new_states = []\n",
    "        \n",
    "    for ket, q in zip(self.qs, q1.qs):\n",
    "        new_states.append(Lorentz_next_boost(ket, q))\n",
    "       \n",
    "    return QHStates(new_states, qs_type=self.qs_type, rows=self.rows, columns=self.columns)\n",
    "   \n",
    "\n",
    "if __name__ == \"__main__\":\n",
    "  \n",
    "\n",
    "    class TestQHStates(unittest.TestCase):\n",
    "        \"\"\"Test states.\"\"\"\n",
    "\n",
    "        q_0 = QH().q_0()\n",
    "        q_1 = QH().q_1()\n",
    "        q_i = QH().q_i()\n",
    "        q_n1 = QH([-1,0,0,0])\n",
    "        q_2 = QH([2,0,0,0])\n",
    "        q_n2 = QH([-2,0,0,0])\n",
    "        q_3 = QH([3,0,0,0])\n",
    "        q_n3 = QH([-3,0,0,0])\n",
    "        q_4 = QH([4,0,0,0])\n",
    "        q_5 = QH([5,0,0,0])\n",
    "        q_6 = QH([6,0,0,0])\n",
    "        q_10 = QH([10,0,0,0])\n",
    "        q_n5 = QH([-5,0,0,0])\n",
    "        q_7 = QH([7,0,0,0])\n",
    "        q_8 = QH([8,0,0,0])\n",
    "        q_9 = QH([9,0,0,0])\n",
    "        q_n11 = QH([-11,0,0,0])\n",
    "        q_21 = QH([21,0,0,0])\n",
    "        q_n34 = QH([-34,0,0,0])\n",
    "        v3 = QHStates([q_3])\n",
    "        v1123 = QHStates([q_1, q_1, q_2, q_3])\n",
    "        v3n1n21 = QHStates([q_3,q_n1,q_n2,q_1])\n",
    "        v9 = QHStates([q_1, q_1, q_2, q_3, q_1, q_1, q_2, q_3, q_2])\n",
    "        v9i = QHStates([QH([0,1,0,0]), QH([0,2,0,0]), QH([0,3,0,0]), QH([0,4,0,0]), QH([0,5,0,0]), QH([0,6,0,0]), QH([0,7,0,0]), QH([0,8,0,0]), QH([0,9,0,0])])\n",
    "        vv9 = v9.add(v9i)\n",
    "        q_1d0 = QH([1.0, 0, 0, 0])\n",
    "        q12 = QHStates([q_1d0, q_1d0])\n",
    "        q14 = QHStates([q_1d0, q_1d0, q_1d0, q_1d0])\n",
    "        q19 = QHStates([q_1d0, q_0, q_1d0, q_1d0, q_1d0, q_1d0, q_1d0, q_1d0, q_1d0])\n",
    "        qn627 = QH([-6,27,0,0])\n",
    "        v33 = QHStates([q_7, q_0, q_n3, q_2, q_3, q_4, q_1, q_n1, q_n2])\n",
    "        v33inv = QHStates([q_n2, q_3, q_9, q_8, q_n11, q_n34, q_n5, q_7, q_21])\n",
    "        q_i3 = QHStates([q_1, q_1, q_1])\n",
    "        q_i2d = QHStates([q_1, q_0, q_0, q_1])\n",
    "        q_i3_bra = QHStates([q_1, q_1, q_1], \"bra\")\n",
    "        q_6_op = QHStates([q_1, q_0, q_0, q_1, q_i, q_i], \"op\")    \n",
    "        q_6_op_32 = QHStates([q_1, q_0, q_0, q_1, q_i, q_i], \"op\", rows=3, columns=2)\n",
    "        q_i2d_op = QHStates([q_1, q_0, q_0, q_1], \"op\")\n",
    "        q_i4 = QH([0,4,0,0])\n",
    "        q_0_q_1 = QHStates([q_0, q_1])\n",
    "        q_1_q_0 = QHStates([q_1, q_0])\n",
    "        q_1_q_i = QHStates([q_1, q_i])\n",
    "        q_1_q_0 = QHStates([q_1, q_0])\n",
    "        q_0_q_i = QHStates([q_0, q_i])\n",
    "        A = QHStates([QH([4,0,0,0]), QH([0,1,0,0])], \"bra\")\n",
    "        B = QHStates([QH([0,0,1,0]), QH([0,0,0,2]), QH([0,3,0,0])])\n",
    "        Op = QHStates([QH([3,0,0,0]), QH([0,1,0,0]), QH([0,0,2,0]), QH([0,0,0,3]), QH([2,0,0,0]), QH([0,4,0,0])], \"op\", rows=2, columns=3)\n",
    "        Op4i = QHStates([q_i4, q_0, q_0, q_i4, q_2, q_3], \"op\", rows=2, columns=3) \n",
    "        Op_scalar = QHStates([q_i4], \"scalar\")\n",
    "        q_1234 = QHStates([QH([1, 1, 0, 0]), QH([2, 1, 0, 0]), QH([3, 1, 0, 0]), QH([4, 1, 0, 0])])\n",
    "        sigma_y = QHStates([QH([1, 0, 0, 0]), QH([0, -1, 0, 0]), QH([0, 1, 0, 0]), QH([-1, 0, 0, 0])])\n",
    "        qn = QHStates([QH([3,0,0,4])])\n",
    "        q_bad = QHStates([q_1], rows=2, columns=3)\n",
    "\n",
    "        b = QHStates([q_1, q_2, q_3], qs_type=\"bra\")\n",
    "        k = QHStates([q_4, q_5, q_6], qs_type=\"ket\")\n",
    "        o = QHStates([q_10], qs_type=\"op\")\n",
    "        \n",
    "        q1234 = QH([1, 2, 3, 4])\n",
    "        q4321 = QH([4, 3, 2, 1])\n",
    "        q2222 = QH([2, 2, 2, 2])\n",
    "        qsmall = QH([.04, 0.2, 0.1, -0.3])\n",
    "        q2_states = QHStates([q1234, qsmall], \"ket\")\n",
    "        \n",
    "        def test_Lorentz_next_rotation(self):\n",
    "            next_rot = Lorentz_next_rotationQS(self.q2_states, QHStates([self.q2222, self.q2222]))\n",
    "            print(\"next_rotation: \", next_rot)\n",
    "            self.assertEqual(next_rot.qs[0].t, 0)\n",
    "            self.assertEqual(next_rot.qs[1].t, 0)\n",
    "            self.assertAlmostEqual(next_rot.norm_squared().qs[0].t, 2)\n",
    "            self.assertFalse(next_rot.qs[0].equals(next_rot.qs[1]))\n",
    "            \n",
    "        def test_Lorentz_next_boost(self):\n",
    "            next_boost = Lorentz_next_boostQS(self.q2_states, QHStates([self.q2222, self.q2222]))\n",
    "            print(\"next_boost: \", next_boost)\n",
    "            self.assertNotEqual(next_boost.qs[0].t, 0)\n",
    "            self.assertNotEqual(next_boost.qs[1].t, 0)\n",
    "            self.assertNotEqual(next_boost.norm_squared().qs[0].t, 2)\n",
    "            self.assertFalse(next_boost.qs[0].equals(next_boost.qs[1]))\n",
    "            boosted_square = self.q2_states.boost_or_rotation(next_boost).square()\n",
    "            q2_states_square = self.q2_states.square()\n",
    "            self.assertAlmostEqual(q2_states_square.qs[0].t, boosted_square.qs[0].t)\n",
    "        \n",
    "\n",
    "    suite = unittest.TestLoader().loadTestsFromModule(TestQHStates())\n",
    "    _results = unittest.TextTestRunner().run(suite);  \n",
    "    "
   ]
  },
  {
   "cell_type": "code",
   "execution_count": null,
   "metadata": {},
   "outputs": [],
   "source": []
  },
  {
   "cell_type": "code",
   "execution_count": null,
   "metadata": {},
   "outputs": [],
   "source": [
    "!pip install pudb"
   ]
  },
  {
   "cell_type": "code",
   "execution_count": null,
   "metadata": {},
   "outputs": [],
   "source": [
    "q_0 = QH().q_0()\n",
    "q_1 = QH().q_1()\n",
    "q_i = QH().q_i()\n",
    "q_n1 = QH([-1,0,0,0])\n",
    "q_2 = QH([2,0,0,0])\n",
    "q_n2 = QH([-2,0,0,0])\n",
    "q_3 = QH([3,0,0,0])\n",
    "q_n3 = QH([-3,0,0,0])\n",
    "q_4 = QH([4,0,0,0])\n",
    "q_5 = QH([5,0,0,0])\n",
    "q_6 = QH([6,0,0,0])\n",
    "q_10 = QH([10,0,0,0])\n",
    "q_n5 = QH([-5,0,0,0])\n",
    "q_7 = QH([7,0,0,0])\n",
    "q_8 = QH([8,0,0,0])\n",
    "q_9 = QH([9,0,0,0])\n",
    "q_n11 = QH([-11,0,0,0])\n",
    "q_21 = QH([21,0,0,0])\n",
    "q_n34 = QH([-34,0,0,0])\n",
    "v3 = QHStates([q_3])\n",
    "v1123 = QHStates([q_1, q_1, q_2, q_3])\n",
    "v3n1n21 = QHStates([q_3,q_n1,q_n2,q_1])\n",
    "v9 = QHStates([q_1, q_1, q_2, q_3, q_1, q_1, q_2, q_3, q_2])\n",
    "v9i = QHStates([QH([0,1,0,0]), QH([0,2,0,0]), QH([0,3,0,0]), QH([0,4,0,0]), QH([0,5,0,0]), QH([0,6,0,0]), QH([0,7,0,0]), QH([0,8,0,0]), QH([0,9,0,0])])\n",
    "vv9 = v9.add(v9i)\n",
    "q_1d0 = QH([1.0, 0, 0, 0])\n",
    "q12 = QHStates([q_1d0, q_1d0])\n",
    "q14 = QHStates([q_1d0, q_1d0, q_1d0, q_1d0])\n",
    "q19 = QHStates([q_1d0, q_0, q_1d0, q_1d0, q_1d0, q_1d0, q_1d0, q_1d0, q_1d0])\n",
    "qn627 = QH([-6,27,0,0])\n",
    "v33 = QHStates([q_7, q_0, q_n3, q_2, q_3, q_4, q_1, q_n1, q_n2])\n",
    "v33inv = QHStates([q_n2, q_3, q_9, q_8, q_n11, q_n34, q_n5, q_7, q_21])\n",
    "q_i3 = QHStates([q_1, q_1, q_1])\n",
    "q_i2d = QHStates([q_1, q_0, q_0, q_1])\n",
    "q_i3_bra = QHStates([q_1, q_1, q_1], \"bra\")\n",
    "q_6_op = QHStates([q_1, q_0, q_0, q_1, q_i, q_i], \"op\")    \n",
    "q_6_op_32 = QHStates([q_1, q_0, q_0, q_1, q_i, q_i], \"op\", rows=3, columns=2)\n",
    "q_i2d_op = QHStates([q_1, q_0, q_0, q_1], \"op\")\n",
    "q_i4 = QH([0,4,0,0])\n",
    "q_0_q_1 = QHStates([q_0, q_1])\n",
    "q_1_q_0 = QHStates([q_1, q_0])\n",
    "q_1_q_i = QHStates([q_1, q_i])\n",
    "q_1_q_0 = QHStates([q_1, q_0])\n",
    "q_0_q_i = QHStates([q_0, q_i])\n",
    "A = QHStates([QH([4,0,0,0]), QH([0,1,0,0])], \"bra\")\n",
    "B = QHStates([QH([0,0,1,0]), QH([0,0,0,2]), QH([0,3,0,0])])\n",
    "Op = QHStates([QH([3,0,0,0]), QH([0,1,0,0]), QH([0,0,2,0]), QH([0,0,0,3]), QH([2,0,0,0]), QH([0,4,0,0])], \"op\", rows=2, columns=3)\n",
    "Op4i = QHStates([q_i4, q_0, q_0, q_i4, q_2, q_3], \"op\", rows=2, columns=3) \n",
    "Op_scalar = QHStates([q_i4], \"scalar\")\n",
    "q_1234 = QHStates([QH([1, 1, 0, 0]), QH([2, 1, 0, 0]), QH([3, 1, 0, 0]), QH([4, 1, 0, 0])])\n",
    "sigma_y = QHStates([QH([1, 0, 0, 0]), QH([0, -1, 0, 0]), QH([0, 1, 0, 0]), QH([-1, 0, 0, 0])])\n",
    "qn = QHStates([QH([3,0,0,4])])\n",
    "q_bad = QHStates([q_1], rows=2, columns=3)\n",
    "\n",
    "b = QHStates([q_1, q_2, q_3], qs_type=\"bra\")\n",
    "k = QHStates([q_4, q_5, q_6], qs_type=\"ket\")\n",
    "o = QHStates([q_10], qs_type=\"op\")\n",
    "\n",
    "q1234 = QH([1, 2, 3, 4])\n",
    "q4321 = QH([4, 3, 2, 1])\n",
    "q2222 = QH([2, 2, 2, 2])\n",
    "qsmall = QH([.04, 0.2, 0.1, -0.3])\n",
    "q2_states = QHStates([q1234, qsmall], \"ket\")"
   ]
  },
  {
   "cell_type": "code",
   "execution_count": null,
   "metadata": {},
   "outputs": [],
   "source": [
    "\n",
    "next_rot = Lorentz_next_rotationQS(q2_states, q2222)\n",
    "next_rot.print_state(\"next_rot\")"
   ]
  },
  {
   "cell_type": "code",
   "execution_count": null,
   "metadata": {},
   "outputs": [],
   "source": [
    "for ket in q2_states.qs:\n",
    "    ket.print_state(\"qs\")"
   ]
  },
  {
   "cell_type": "code",
   "execution_count": null,
   "metadata": {},
   "outputs": [],
   "source": [
    "next_rot = Lorentz_next_boostQS(q2_states, q2222)\n",
    "next_rot.print_state(\"next_rot\")"
   ]
  },
  {
   "cell_type": "code",
   "execution_count": null,
   "metadata": {},
   "outputs": [],
   "source": [
    "Lorentz_next_boostQS(q2_states, q2222).norm_squared().print_state(\"boost norm\")"
   ]
  },
  {
   "cell_type": "code",
   "execution_count": null,
   "metadata": {},
   "outputs": [],
   "source": []
  }
 ],
 "metadata": {
  "language_info": {
   "name": "python",
   "pygments_lexer": "ipython3"
  }
 },
 "nbformat": 4,
 "nbformat_minor": 4
}
