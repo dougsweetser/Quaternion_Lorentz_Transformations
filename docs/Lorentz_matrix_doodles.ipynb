{
 "cells": [
  {
   "cell_type": "markdown",
   "metadata": {},
   "source": [
    "# Lorentz matrix doodles"
   ]
  },
  {
   "cell_type": "markdown",
   "metadata": {},
   "source": [
    "Idea: see what it takes to do things \"just like a Lorentz matrix.\""
   ]
  },
  {
   "cell_type": "code",
   "execution_count": null,
   "metadata": {},
   "outputs": [],
   "source": [
    "%%capture\n",
    "%matplotlib inline\n",
    "import numpy as np\n",
    "import sympy as sp\n",
    "import matplotlib.pyplot as plt\n",
    "import math\n",
    "import unittest\n",
    "\n",
    "# To get equations the look like, well, equations, use the following.\n",
    "from sympy.interactive import printing\n",
    "printing.init_printing(use_latex=True)\n",
    "from IPython.display import display\n",
    "\n",
    "# Tools for manipulating quaternions written by D. Sweetser.\n",
    "from QH import QH;\n",
    "\n",
    "from IPython.core.display import display, HTML, Math, Latex\n",
    "display(HTML(\"<style>.container { width:100% !important; }</style>\"))"
   ]
  },
  {
   "cell_type": "code",
   "execution_count": null,
   "metadata": {},
   "outputs": [],
   "source": [
    "t, x, y, z = sp.symbols(\"t x y z\")"
   ]
  },
  {
   "cell_type": "code",
   "execution_count": null,
   "metadata": {},
   "outputs": [],
   "source": [
    "v_txyz = sp.Matrix([t,x,y,z])"
   ]
  },
  {
   "cell_type": "code",
   "execution_count": null,
   "metadata": {},
   "outputs": [],
   "source": [
    "Lyx = sp.Matrix([[1, 0, 0, 0],\n",
    "                 [0, 0, -1, 0],\n",
    "                 [0, 1, 0, 0],\n",
    "                 [0, 0, 0, 1]])\n",
    "display(Lyx)\n",
    "display(Lyx * v_txyz)"
   ]
  },
  {
   "cell_type": "markdown",
   "metadata": {},
   "source": [
    "Notice that each term is algebraically isolated from the others. To do this with quaternions, the same thing must be done - terms must be isolated from each other. This can be done using the three conjugates and a function to flip signs. For t, one uses the standard conjugates. To isolate x and y needs the action of the first and second conjugates. TO get z, all three conjugates and the sign flip."
   ]
  },
  {
   "cell_type": "code",
   "execution_count": null,
   "metadata": {},
   "outputs": [],
   "source": [
    "q_txyz = QH([t, x, y, z])"
   ]
  },
  {
   "cell_type": "code",
   "execution_count": null,
   "metadata": {},
   "outputs": [],
   "source": [
    "q_txyz.add(q_txyz.conj()).print_state(\"2 t\")\n",
    "q_txyz.add(q_txyz.conj(1)).print_state(\"2 x\")\n",
    "q_txyz.add(q_txyz.conj(2)).print_state(\"2 y\")\n",
    "q_txyz.add(q_txyz.conj().conj(1).conj(2).flip_signs()).print_state(\"2 z\")"
   ]
  },
  {
   "cell_type": "markdown",
   "metadata": {},
   "source": [
    "Now twist the $x$ and $y$ states with a product with $k$."
   ]
  },
  {
   "cell_type": "code",
   "execution_count": null,
   "metadata": {},
   "outputs": [],
   "source": [
    "q_txyz.add(q_txyz.conj(1)).product(QH().q_k(-1)).print_state(\"2 x\")\n",
    "q_txyz.add(q_txyz.conj(2)).product(QH().q_k(-1)).print_state(\"2 y\")"
   ]
  },
  {
   "cell_type": "markdown",
   "metadata": {},
   "source": [
    "Just add it all up."
   ]
  },
  {
   "cell_type": "code",
   "execution_count": null,
   "metadata": {},
   "outputs": [],
   "source": [
    "q_txyz.add(q_txyz.conj()).add(q_txyz.add(q_txyz.conj(1)).product(QH().q_k(-1))).add(q_txyz.add(q_txyz.conj(2)).product(QH().q_k(-1))).add(q_txyz.add(q_txyz.conj().conj(1).conj(2).flip_signs())).product(QH().q_1(1/2)).display_q(\"tyxz\")"
   ]
  },
  {
   "cell_type": "code",
   "execution_count": null,
   "metadata": {},
   "outputs": [],
   "source": []
  }
 ],
 "metadata": {
  "language_info": {
   "name": "python",
   "pygments_lexer": "ipython3"
  }
 },
 "nbformat": 4,
 "nbformat_minor": 2
}
