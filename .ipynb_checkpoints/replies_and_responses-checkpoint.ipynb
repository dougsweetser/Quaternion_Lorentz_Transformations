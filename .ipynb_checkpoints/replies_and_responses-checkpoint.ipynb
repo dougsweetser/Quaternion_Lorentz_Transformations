{
 "cells": [
  {
   "cell_type": "markdown",
   "metadata": {},
   "source": [
    "# Replies and Responses"
   ]
  },
  {
   "cell_type": "markdown",
   "metadata": {},
   "source": [
    "On July 30, 2019, I sent email to both Dr. Kharinov and Purple Penguin with a 13 page PDF of the iPython notebook. On the next day, both replied. Here is exactly as they wrote."
   ]
  },
  {
   "cell_type": "markdown",
   "metadata": {},
   "source": [
    "### Dr. Kharinov\n",
    "\n",
    "> Hello Doug Sweetser,\n",
    "\n",
    "> I am not interested in computer exercises with quaternions and have not mastered a single CAS. \n",
    "Therefore, most of the content of your papers is not addressed to me.\n",
    "In the first file, the second part of section 1.2 “A Real-Valued Quaternion Lorentz Boost” does not make sense. \n",
    "You still insist that you are describing all the rotations without using the rotational angle. \n",
    "My arguments about this also have not changed (see previous letters).\n",
    "And physics has nothing to do with it, since the quaternion representation \n",
    "in it absolutely does not change anything.\n",
    "\n",
    ">Regards.\n",
    "\n",
    ">M.Kharinov  "
   ]
  },
  {
   "cell_type": "markdown",
   "metadata": {},
   "source": [
    "### Purple Penguin\n",
    "\n",
    "> I really do want to help you understand more, but I am unsure how to make progress. You continue to make new mistakes and move on before you take the time to learn from previous discussions. We never get anywhere this way, often cycling back to previous misunderstandings. What exactly do you want me to do?\n",
    " \n",
    "> After reading, here are four main points.\n",
    " \n",
    "> 1) You misunderstand Aaronson's argument. Please take the time to learn QM instead of superficially recreating equations you see in a book to have quaternions. I can help you learn more about QM, but you have to actually choose to seek this as the goal first. He is not using high level concepts here. You should be able to understand this if you take the time. It will be worth it.\n",
    " \n",
    "> 1b) As Aaronson tried to explain to you (and I've tried repeatedly to explain as well), the \"space\" from which a vector describing the state of a qubit comes from is a Hilbert space, not the space of space-time. Taking the dual of a state vector is not mirroring or flipping in space-time. Likewise the presence of a conjugate in the norm doesn't mean there is something non-local going on.\n",
    " \n",
    "> 2) The Lorentz group has 6 real degrees of freedom. We have discussed this at great length. We can discuss even more, but I'd appreciate if we could finally run this to ground and complete it.\n",
    " \n",
    "> 3) You have redefined what a \"solution\" is, to the point where the result has lost all meaning. It is equivalent to claiming B' = B + h can define any transformation, if, as you say, I can make the solution \"local\".  This trivializes the concept of a \"solution\" to the point of being completely vacuous. \n",
    " \n",
    "> So, do you believe the transformation B' = B + h describes a rotation?\n",
    " \n",
    "> Even better, if the components of h can be a function of the components of B, why even bother with B? Just declare the ultimate transformation\n",
    " B' = h\n",
    "Tell me what you want B' to equal for a particular B and I'll give you the h which \"solves\" this transformation equation to make B' equal that.\n",
    "This is completely vacuous.\n",
    " \n",
    "> 4) If you are starting to consider a collection of four functions as components of a quaternion, this object is no longer a quaternion, but a different type of mathematical object.\n",
    " \n",
    "> For example, for real number polynomials of one parameter, the set is R[x]. For complex polynomials of one parameter it would be C[x]. For quaternions, what is a polynomial may need a bit of defining since values do not commute, but would be H[x].\n",
    "Note that these objects, or more general \"quaternion of functions\", would no longer be a division algebra."
   ]
  },
  {
   "cell_type": "markdown",
   "metadata": {},
   "source": [
    "These professionals are dismissive of the work contained in the notebook."
   ]
  },
  {
   "cell_type": "markdown",
   "metadata": {},
   "source": [
    "## The Kinetics of Disagreement"
   ]
  },
  {
   "cell_type": "markdown",
   "metadata": {},
   "source": [
    "Our minds must do work to change. Change of the way people think about physics takes the investment of both energy and time. David Pritchard of MIT studied how students ideas about physics changed before and after the traditional large lecture classes. What the data showed was that their understanding of physics did not change at all. This lead to a compete redesign of freshmen physics at MIT. The sections were made tiny, with students arguing about their understanding of issues."
   ]
  },
  {
   "cell_type": "markdown",
   "metadata": {},
   "source": [
    "The rapid reply received from both Dr. Kharinov and Purple Penguin indicated they did not give themselves time to change their minds. In my own experience, I know it is easiest to reply quickly, citing earlier points I have made and adding new objections. I could have done that in this situation, but decided against it. "
   ]
  },
  {
   "cell_type": "markdown",
   "metadata": {},
   "source": [
    "I have noticed it takes from a few hours to a day and half before I can move around my own well-known-to-me objections and see some value in other's critiques. Such was the case here. Now I shift in to the several-weeks process of working my own mind. Since Dr. Kharinov claimed he had already said all he needed to, I will go back and read all those emails to see which are most relevant to the 1-way \\$100 wager. There are a number of issues Purple Penguin raised which are fun to reflect upon."
   ]
  },
  {
   "cell_type": "markdown",
   "metadata": {},
   "source": [
    "After completing this notebook reply over the next two week, I will retire from this conflict on the triple triple quaternion function and Lorentz transformations. I feel confident nothing I write here will change the mind of Dr. Kharinov or Purple Penguin, so that is not the goal. It is instead to document for myself and anyone else interested what I think are darn fun observations that get me to think differently about mathematical physics."
   ]
  },
  {
   "cell_type": "markdown",
   "metadata": {},
   "source": [
    "## Dr. K: Mastering CAS"
   ]
  },
  {
   "cell_type": "markdown",
   "metadata": {},
   "source": [
    "It is my practice to avoid jargon. I had to look up [CAS](https://en.wikipedia.org/wiki/Computer_algebra_system) which stands for Computer Algebra System. The driving goal of the Python language is readability. Even if one does not know how to write and use a python program, the hope is that enough can be read by a general audience to understand what is being done."
   ]
  },
  {
   "cell_type": "markdown",
   "metadata": {},
   "source": [
    "Technical note: For this very project, I decided for ease of reading to rearrange my core library. I renamed it from Q_tools to QH, so the import command became \"from QH import QH\". This means that the way to create a quaternion is just \"new_q = QH([t, x, y, z])\". There is nothing Earth-shattering about this. Instead it is about the work needed to make things simple enough so it is readible as is."
   ]
  },
  {
   "cell_type": "markdown",
   "metadata": {},
   "source": [
    "The import of libraries is not pretty and probably will never be. I repeat it here."
   ]
  },
  {
   "cell_type": "code",
   "execution_count": 2,
   "metadata": {},
   "outputs": [
    {
     "ename": "ModuleNotFoundError",
     "evalue": "No module named 'QH'",
     "output_type": "error",
     "traceback": [
      "\u001b[0;31m---------------------------------------------------------------------------\u001b[0m",
      "\u001b[0;31mModuleNotFoundError\u001b[0m                       Traceback (most recent call last)",
      "\u001b[0;32m<ipython-input-2-5b5994c07c22>\u001b[0m in \u001b[0;36m<module>\u001b[0;34m\u001b[0m\n\u001b[1;32m     12\u001b[0m \u001b[0;34m\u001b[0m\u001b[0m\n\u001b[1;32m     13\u001b[0m \u001b[0;31m# Tools for manipulating quaternions written by D. Sweetser.\u001b[0m\u001b[0;34m\u001b[0m\u001b[0;34m\u001b[0m\u001b[0;34m\u001b[0m\u001b[0m\n\u001b[0;32m---> 14\u001b[0;31m \u001b[0;32mfrom\u001b[0m \u001b[0mQH\u001b[0m \u001b[0;32mimport\u001b[0m \u001b[0mQH\u001b[0m\u001b[0;34m;\u001b[0m\u001b[0;34m\u001b[0m\u001b[0;34m\u001b[0m\u001b[0m\n\u001b[0m\u001b[1;32m     15\u001b[0m \u001b[0;34m\u001b[0m\u001b[0m\n\u001b[1;32m     16\u001b[0m \u001b[0;32mfrom\u001b[0m \u001b[0mIPython\u001b[0m\u001b[0;34m.\u001b[0m\u001b[0mcore\u001b[0m\u001b[0;34m.\u001b[0m\u001b[0mdisplay\u001b[0m \u001b[0;32mimport\u001b[0m \u001b[0mdisplay\u001b[0m\u001b[0;34m,\u001b[0m \u001b[0mHTML\u001b[0m\u001b[0;34m,\u001b[0m \u001b[0mMath\u001b[0m\u001b[0;34m,\u001b[0m \u001b[0mLatex\u001b[0m\u001b[0;34m\u001b[0m\u001b[0;34m\u001b[0m\u001b[0m\n",
      "\u001b[0;31mModuleNotFoundError\u001b[0m: No module named 'QH'"
     ]
    }
   ],
   "source": [
    "%%capture\n",
    "%matplotlib inline\n",
    "import numpy as np\n",
    "import sympy as sp\n",
    "import matplotlib.pyplot as plt\n",
    "import math\n",
    "import unittest\n",
    "\n",
    "# To get equations the look like, well, equations, use the following.\n",
    "from sympy.interactive import printing\n",
    "printing.init_printing(use_latex=True)\n",
    "from IPython.display import display\n",
    "\n",
    "# Tools for manipulating quaternions written by D. Sweetser.\n",
    "from QH import QH;\n",
    "\n",
    "from IPython.core.display import display, HTML, Math, Latex\n",
    "display(HTML(\"<style>.container { width:100% !important; }</style>\"))"
   ]
  },
  {
   "cell_type": "markdown",
   "metadata": {},
   "source": [
    "This was on page 3. I then used it to write out four quaternions using quaternion conjugates and give them a boost. For brevity, I will only include one example:"
   ]
  },
  {
   "cell_type": "code",
   "execution_count": 3,
   "metadata": {},
   "outputs": [
    {
     "ename": "NameError",
     "evalue": "name 'QH' is not defined",
     "output_type": "error",
     "traceback": [
      "\u001b[0;31m---------------------------------------------------------------------------\u001b[0m",
      "\u001b[0;31mNameError\u001b[0m                                 Traceback (most recent call last)",
      "\u001b[0;32m<ipython-input-3-150adb1492ab>\u001b[0m in \u001b[0;36m<module>\u001b[0;34m\u001b[0m\n\u001b[0;32m----> 1\u001b[0;31m \u001b[0mhpp\u001b[0m \u001b[0;34m=\u001b[0m \u001b[0mQH\u001b[0m\u001b[0;34m(\u001b[0m\u001b[0;34m[\u001b[0m\u001b[0;36m0\u001b[0m\u001b[0;34m,\u001b[0m \u001b[0;36m1\u001b[0m\u001b[0;34m/\u001b[0m\u001b[0msp\u001b[0m\u001b[0;34m.\u001b[0m\u001b[0msqrt\u001b[0m\u001b[0;34m(\u001b[0m\u001b[0;36m2\u001b[0m\u001b[0;34m)\u001b[0m\u001b[0;34m,\u001b[0m \u001b[0;36m1\u001b[0m\u001b[0;34m/\u001b[0m\u001b[0msp\u001b[0m\u001b[0;34m.\u001b[0m\u001b[0msqrt\u001b[0m\u001b[0;34m(\u001b[0m\u001b[0;36m2\u001b[0m\u001b[0;34m)\u001b[0m\u001b[0;34m,\u001b[0m \u001b[0;36m0\u001b[0m\u001b[0;34m]\u001b[0m\u001b[0;34m)\u001b[0m\u001b[0;34m\u001b[0m\u001b[0;34m\u001b[0m\u001b[0m\n\u001b[0m\u001b[1;32m      2\u001b[0m \u001b[0mhpp\u001b[0m\u001b[0;34m.\u001b[0m\u001b[0mprint_state\u001b[0m\u001b[0;34m(\u001b[0m\u001b[0;34m\"hpp\"\u001b[0m\u001b[0;34m)\u001b[0m\u001b[0;34m\u001b[0m\u001b[0;34m\u001b[0m\u001b[0m\n\u001b[1;32m      3\u001b[0m \u001b[0mt\u001b[0m\u001b[0;34m,\u001b[0m \u001b[0mx\u001b[0m\u001b[0;34m,\u001b[0m \u001b[0my\u001b[0m\u001b[0;34m,\u001b[0m \u001b[0mz\u001b[0m \u001b[0;34m=\u001b[0m \u001b[0msp\u001b[0m\u001b[0;34m.\u001b[0m\u001b[0msymbols\u001b[0m\u001b[0;34m(\u001b[0m\u001b[0;34m\"t x y z\"\u001b[0m\u001b[0;34m)\u001b[0m\u001b[0;34m\u001b[0m\u001b[0;34m\u001b[0m\u001b[0m\n\u001b[1;32m      4\u001b[0m \u001b[0mtxyz\u001b[0m \u001b[0;34m=\u001b[0m \u001b[0mQH\u001b[0m\u001b[0;34m(\u001b[0m\u001b[0;34m[\u001b[0m\u001b[0mt\u001b[0m\u001b[0;34m,\u001b[0m \u001b[0mx\u001b[0m\u001b[0;34m,\u001b[0m \u001b[0my\u001b[0m\u001b[0;34m,\u001b[0m \u001b[0mz\u001b[0m\u001b[0;34m]\u001b[0m\u001b[0;34m)\u001b[0m\u001b[0;34m\u001b[0m\u001b[0;34m\u001b[0m\u001b[0m\n\u001b[1;32m      5\u001b[0m \u001b[0mtxyz_hpp\u001b[0m \u001b[0;34m=\u001b[0m \u001b[0mtxyz\u001b[0m\u001b[0;34m.\u001b[0m\u001b[0mboost\u001b[0m\u001b[0;34m(\u001b[0m\u001b[0mhpp\u001b[0m\u001b[0;34m)\u001b[0m\u001b[0;34m.\u001b[0m\u001b[0msimple_q\u001b[0m\u001b[0;34m(\u001b[0m\u001b[0;34m)\u001b[0m\u001b[0;34m\u001b[0m\u001b[0;34m\u001b[0m\u001b[0m\n",
      "\u001b[0;31mNameError\u001b[0m: name 'QH' is not defined"
     ]
    }
   ],
   "source": [
    "hpp = QH([0, 1/sp.sqrt(2), 1/sp.sqrt(2), 0])\n",
    "hpp.print_state(\"hpp\")\n",
    "t, x, y, z = sp.symbols(\"t x y z\")\n",
    "txyz = QH([t, x, y, z])\n",
    "txyz_hpp = txyz.boost(hpp).simple_q()\n",
    "txyz_hpp.print_state(\"txyz_hpp\")"
   ]
  },
  {
   "cell_type": "markdown",
   "metadata": {},
   "source": [
    "The skeptical reader might more information about the function boost(). That would require opening up the QH library and seeing that it does indeed implement the triple tripe quaternion function, $B \\rightarrow B' = h B h^* + \\frac{1}{2} ((h h B)^* - (h^* h^* B)^*)$. The details are available, so nothing is hidden. I would also prefer if the sqrt(2)/2 appeared in LaTeX as $\\sqrt(2)/2$, but these display issues are an ongoing struggle. I hope most readers could quickly figure out what was done here."
   ]
  },
  {
   "cell_type": "markdown",
   "metadata": {},
   "source": [
    "If I reader decided to **play** with the notebook... and play is the key term, not trying to prove anything in any direction, just try out some random numbers in a boost with the first term equal to zero like so:"
   ]
  },
  {
   "cell_type": "code",
   "execution_count": null,
   "metadata": {},
   "outputs": [],
   "source": [
    "txyz.boost(QH([0, 2, 3, 5])).print_state(\"boost by (0, 2, 3, 5)\")"
   ]
  },
  {
   "cell_type": "markdown",
   "metadata": {},
   "source": [
    "Nope, this is not right, that 38t. One would realize that $38 = 2^2 + 3^2 + 5^3$, a normalization factor, so adjust for that:"
   ]
  },
  {
   "cell_type": "code",
   "execution_count": null,
   "metadata": {},
   "outputs": [],
   "source": [
    "txyz.boost(QH([0, 2/math.sqrt(38), 3/math.sqrt(38), 5/math.sqrt(38)])).print_state(\"boost by (0, 2, 3, 5)/math.sqrt(38)\")"
   ]
  },
  {
   "cell_type": "markdown",
   "metadata": {},
   "source": [
    "Is this really a rotation? The fact that the first term is unaltered is a requirement. Maybe the other three terms don't have the same norm? Just test it. "
   ]
  },
  {
   "cell_type": "code",
   "execution_count": null,
   "metadata": {},
   "outputs": [],
   "source": [
    "txyz.boost(QH([0, 2/math.sqrt(38), 3/math.sqrt(38), 5/math.sqrt(38)])).norm_squared().simple_q().print_state(\"norm squared\")"
   ]
  },
  {
   "cell_type": "markdown",
   "metadata": {},
   "source": [
    "There is a some rounding error going on, but otherwise it is exactly what is required. This looks like a totally random way to do a rotation. Therefore, how could one possibly restrict rotations? One way was the basis of the 1-way $ \\$100 $ wager: insist that rotation around the $z$ axis is zero. Without that restriction, I see nothing limiting where the rotation could be in 3D space."
   ]
  },
  {
   "cell_type": "markdown",
   "metadata": {},
   "source": [
    "Dr. Kharinov did not do this exercise and decided not to read anything after the statement of the problem, section 1.2 A Real-Valued Quaternion Lorentz Boost."
   ]
  },
  {
   "cell_type": "markdown",
   "metadata": {},
   "source": [
    "The [slides for Dr. Kharinov's work are available](https://pca-pdmi.ru/2019/files/22/KharinovSPIIRASlides.pdf). To do the work of the Lorentz group, on slide 3 he forms a composite function from the triple triple quaternion function and the rotation triple product. I must confess a bit of confusion on how he does this. In my own efforts, I specifically make clear there is a rejection of the tools of tensor algebra. I do not see a similar statement here. The assertion that \"the quaternion representation in it absolutely does not change anything\" strikes me as odd as members of the Lorentz group are rank 2 tensors that act on rank 1 tensors that may only be contracted using a metric tensor."
   ]
  },
  {
   "cell_type": "markdown",
   "metadata": {},
   "source": [
    "I do fault myself for some of our miscommunication. Every tool in my QH library returns a quaternion. That may not sound radical, but it is in its own way. Take the norm. In current usage, that means one number is returned. The quaternion function norm_squared() returns four. Granted that three of them are zero, but I did get into an argument with Dr. Kharinov over this kind of detail. What I have learned is to always preface vector algebra terms in wide use with the quaternion qualifier. As another example, think of the cross product. My tools again have to return four numbers, the first one always being zero. "
   ]
  },
  {
   "cell_type": "markdown",
   "metadata": {},
   "source": [
    "# Purple Penguin: Overview"
   ]
  },
  {
   "cell_type": "markdown",
   "metadata": {},
   "source": [
    "The four points raised are all worthy of discussion. Yet he and I argue like an old couple, talking past each other and ignoring what the other has said. Both parties will claim they are the generous one."
   ]
  },
  {
   "cell_type": "markdown",
   "metadata": {},
   "source": [
    "To my biased eye, the most glaring omission was my documented demonstration that there was indeed a value of a quaternion parameter $h= \\left(0, \\frac{x - y}{\\sqrt{2 x^2 + 2 y^2 + 4 z^2}} , \\frac{x + y}{\\sqrt{2 x^2 + 2 y^2 + 4 z^2}} , \\frac{2 z}{\\sqrt{2 x^2 + 2 y^2 + 4 z^2}} \\right)$ that accomplishes this transformation: $B=(t, x, y, z) \\rightarrow B' = (t, -y, x, z)$ for the triple triple quaternion function. Unless otherwise shown, I won my 1-way $100 wager."
   ]
  },
  {
   "cell_type": "markdown",
   "metadata": {},
   "source": [
    "## Purple Penguin, 1a\n",
    "\n",
    "> 1) You misunderstand Aaronson's argument. Please take the time to learn QM instead of superficially recreating equations you see in a book to have quaternions. I can help you learn more about QM, but you have to actually choose to seek this as the goal first. He is not using high level concepts here. You should be able to understand this if you take the time. It will be worth it."
   ]
  },
  {
   "cell_type": "markdown",
   "metadata": {},
   "source": [
    "For those unfamiliar with this research project I have, it is [available on github](https://github.com/dougsweetser/QM). The intent is to follow along with the book \"Quantum Mechanics: The Theoretical Minimum\" (QMTTM) by Leonard Susskind and Art Friedman, making sure all expressions can be recreated using quaternion series (a semi-group with inverses). "
   ]
  },
  {
   "cell_type": "markdown",
   "metadata": {},
   "source": [
    "One can see this as a generous offer for assistence. I do read it that way. My own experience says that would not be effective. In the early 1990s, as I worked as a biology lab technician at the Harvard School of Public Health, I was able to audit a full year of undergraduate quantum mechanics followed by a second year of graduate level quantum mechanics (relativisitic quantum field theory, doing Feynman scattering calculations and similar things). That is the kind of time investment required to learn the details of quantum mechanics. It is clear that over three decades, most details needed for detailed calculations have been lost, like I know that there are selection rules required for scattering calculations, but I could not write one down."
   ]
  },
  {
   "cell_type": "markdown",
   "metadata": {},
   "source": [
    "Demonstrating that quaternion series behave exactly as the complex-valued Hilbert space is often straight forward. Take for example that the Hilbert space is linear. If one chooses to call my replication of that effort superficial, that is a judgment call you are free to make. I recall the same sorts of basic steps are done in technical books on quantum mechanics. Basic stuff is easy but still needs to be done."
   ]
  },
  {
   "cell_type": "markdown",
   "metadata": {},
   "source": [
    "Let me describe a non-trivial case. There is an identity in complex-valued quantum mechanics with operators, the dagar operator, and a state:\n",
    "$$ <A|M^\\dagger = M|A> $$\n",
    "It is easy for me to imagine someone with formal training to immediately claim such an identity will fail because quaternions do not commute. In a quaternion product, the only part that does not commute is the cross product. The cross product anti-commutes. An anti-anti-commutes is the same as something that commutes. "
   ]
  },
  {
   "cell_type": "markdown",
   "metadata": {},
   "source": [
    "Getting this to work in practice was not superficial. It was quite gratifying that my refactoring of the QH library had this particular proof to just work. I am almost exactly 1/3 through what I consider to be the basic steps one has to do at a minimum, the ten chapters of Susskind and Friedman's book."
   ]
  },
  {
   "cell_type": "markdown",
   "metadata": {},
   "source": [
    "Let's accept this assertion that Aaronson is not doing anything fancy. So I will spell the basics out, and maybe someone will point out where my basic understanding of quantum mechanics is flawed. Let me start with a spin 2 state."
   ]
  },
  {
   "cell_type": "code",
   "execution_count": null,
   "metadata": {},
   "outputs": [],
   "source": [
    "a0, a1, b0, b1 = sp.symbols(\"a0 a1 b0 b1\")\n",
    "φ = QHStates([QH([a0, a1, 0, 0]), QH([b0, b1, 0, 0])])\n",
    "φ.print_state(\"φ\")"
   ]
  },
  {
   "cell_type": "code",
   "execution_count": null,
   "metadata": {},
   "outputs": [],
   "source": []
  }
 ],
 "metadata": {
  "kernelspec": {
   "display_name": "Python 3",
   "language": "python",
   "name": "python3"
  },
  "language_info": {
   "codemirror_mode": {
    "name": "ipython",
    "version": 3
   },
   "file_extension": ".py",
   "mimetype": "text/x-python",
   "name": "python",
   "nbconvert_exporter": "python",
   "pygments_lexer": "ipython3",
   "version": "3.7.3"
  }
 },
 "nbformat": 4,
 "nbformat_minor": 2
}
