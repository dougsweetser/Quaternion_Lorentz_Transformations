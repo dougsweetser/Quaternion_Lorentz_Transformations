{
 "cells": [
  {
   "cell_type": "markdown",
   "metadata": {},
   "source": [
    "# Lorentz matrix doodles"
   ]
  },
  {
   "cell_type": "markdown",
   "metadata": {},
   "source": [
    "Idea: see what it takes to do things \"just like a Lorentz matrix.\""
   ]
  },
  {
   "cell_type": "code",
   "execution_count": 1,
   "metadata": {},
   "outputs": [],
   "source": [
    "%%capture\n",
    "%matplotlib inline\n",
    "import numpy as np\n",
    "import sympy as sp\n",
    "import matplotlib.pyplot as plt\n",
    "import math\n",
    "import unittest\n",
    "\n",
    "# To get equations the look like, well, equations, use the following.\n",
    "from sympy.interactive import printing\n",
    "printing.init_printing(use_latex=True)\n",
    "from IPython.display import display\n",
    "\n",
    "# Tools for manipulating quaternions written by D. Sweetser.\n",
    "from QH import QH;\n",
    "\n",
    "from IPython.core.display import display, HTML, Math, Latex\n",
    "display(HTML(\"<style>.container { width:100% !important; }</style>\"))"
   ]
  },
  {
   "cell_type": "code",
   "execution_count": 2,
   "metadata": {},
   "outputs": [],
   "source": [
    "t, x, y, z = sp.symbols(\"t x y z\")"
   ]
  },
  {
   "cell_type": "code",
   "execution_count": 3,
   "metadata": {},
   "outputs": [],
   "source": [
    "v_txyz = sp.Matrix([t,x,y,z])"
   ]
  },
  {
   "cell_type": "code",
   "execution_count": 27,
   "metadata": {},
   "outputs": [
    {
     "data": {
      "image/png": "[encoded data removed]",
      "text/latex": [
       "$$\\left[\\begin{matrix}1 & 0 & 0 & 0\\\\0 & 0 & -1 & 0\\\\0 & 1 & 0 & 0\\\\0 & 0 & 0 & 1\\end{matrix}\\right]$$"
      ],
      "text/plain": [
       "⎡1  0  0   0⎤\n",
       "⎢           ⎥\n",
       "⎢0  0  -1  0⎥\n",
       "⎢           ⎥\n",
       "⎢0  1  0   0⎥\n",
       "⎢           ⎥\n",
       "⎣0  0  0   1⎦"
      ]
     },
     "metadata": {},
     "output_type": "display_data"
    },
    {
     "data": {
      "image/png": "[encoded data removed]",
      "text/latex": [
       "$$\\left[\\begin{matrix}t\\\\- y\\\\x\\\\z\\end{matrix}\\right]$$"
      ],
      "text/plain": [
       "⎡t ⎤\n",
       "⎢  ⎥\n",
       "⎢-y⎥\n",
       "⎢  ⎥\n",
       "⎢x ⎥\n",
       "⎢  ⎥\n",
       "⎣z ⎦"
      ]
     },
     "metadata": {},
     "output_type": "display_data"
    }
   ],
   "source": [
    "Lyx = sp.Matrix([[1, 0, 0, 0],\n",
    "                 [0, 0, -1, 0],\n",
    "                 [0, 1, 0, 0],\n",
    "                 [0, 0, 0, 1]])\n",
    "display(Lyx)\n",
    "display(Lyx * v_txyz)"
   ]
  },
  {
   "cell_type": "markdown",
   "metadata": {},
   "source": [
    "Notice that each term is algebraically isolated from the others. To do this with quaternions, the same thing must be done - terms must be isolated from each other. This can be done using the three conjugates and a function to flip signs. For t, one uses the standard conjugates. To isolate x and y needs the action of the first and second conjugates. TO get z, all three conjugates and the sign flip."
   ]
  },
  {
   "cell_type": "code",
   "execution_count": 13,
   "metadata": {},
   "outputs": [],
   "source": [
    "q_txyz = QH([t, x, y, z])"
   ]
  },
  {
   "cell_type": "code",
   "execution_count": 28,
   "metadata": {},
   "outputs": [
    {
     "name": "stdout",
     "output_type": "stream",
     "text": [
      "2 t\n",
      "(2*t, 0, 0, 0) \n",
      "2 x\n",
      "(0, 2*x, 0, 0) \n",
      "2 y\n",
      "(0, 0, 2*y, 0) \n",
      "2 z\n",
      "(0, 0, 0, 2*z) \n"
     ]
    }
   ],
   "source": [
    "q_txyz.add(q_txyz.conj()).print_state(\"2 t\")\n",
    "q_txyz.add(q_txyz.conj(1)).print_state(\"2 x\")\n",
    "q_txyz.add(q_txyz.conj(2)).print_state(\"2 y\")\n",
    "q_txyz.add(q_txyz.conj().conj(1).conj(2).flip_signs()).print_state(\"2 z\")"
   ]
  },
  {
   "cell_type": "markdown",
   "metadata": {},
   "source": [
    "Now twist the $x$ and $y$ states with a product with $k$."
   ]
  },
  {
   "cell_type": "code",
   "execution_count": 29,
   "metadata": {},
   "outputs": [
    {
     "name": "stdout",
     "output_type": "stream",
     "text": [
      "2 x\n",
      "(0, 0, 2*x, 0) \n",
      "2 y\n",
      "(0, -2*y, 0, 0) \n"
     ]
    }
   ],
   "source": [
    "q_txyz.add(q_txyz.conj(1)).product(QH().q_k(-1)).print_state(\"2 x\")\n",
    "q_txyz.add(q_txyz.conj(2)).product(QH().q_k(-1)).print_state(\"2 y\")"
   ]
  },
  {
   "cell_type": "markdown",
   "metadata": {},
   "source": [
    "Just add it all up."
   ]
  },
  {
   "cell_type": "code",
   "execution_count": 25,
   "metadata": {},
   "outputs": [
    {
     "name": "stdout",
     "output_type": "stream",
     "text": [
      "tyxz\n"
     ]
    },
    {
     "data": {
      "image/png": "[encoded data removed]",
      "text/latex": [
       "$$1.0 t$$"
      ],
      "text/plain": [
       "1.0⋅t"
      ]
     },
     "metadata": {},
     "output_type": "display_data"
    },
    {
     "data": {
      "image/png": "[encoded data removed]",
      "text/latex": [
       "$$- 1.0 y$$"
      ],
      "text/plain": [
       "-1.0⋅y"
      ]
     },
     "metadata": {},
     "output_type": "display_data"
    },
    {
     "data": {
      "image/png": "[encoded data removed]",
      "text/latex": [
       "$$1.0 x$$"
      ],
      "text/plain": [
       "1.0⋅x"
      ]
     },
     "metadata": {},
     "output_type": "display_data"
    },
    {
     "data": {
      "image/png": "[encoded data removed]",
      "text/latex": [
       "$$1.0 z$$"
      ],
      "text/plain": [
       "1.0⋅z"
      ]
     },
     "metadata": {},
     "output_type": "display_data"
    }
   ],
   "source": [
    "q_txyz.add(q_txyz.conj()).add(q_txyz.add(q_txyz.conj(1)).product(QH().q_k(-1))).add(q_txyz.add(q_txyz.conj(2)).product(QH().q_k(-1))).add(q_txyz.add(q_txyz.conj().conj(1).conj(2).flip_signs())).product(QH().q_1(1/2)).display_q(\"tyxz\")"
   ]
  },
  {
   "cell_type": "code",
   "execution_count": null,
   "metadata": {},
   "outputs": [],
   "source": []
  }
 ],
 "metadata": {
  "kernelspec": {
   "display_name": "Python 3",
   "language": "python",
   "name": "python3"
  },
  "language_info": {
   "codemirror_mode": {
    "name": "ipython",
    "version": 3
   },
   "file_extension": ".py",
   "mimetype": "text/x-python",
   "name": "python",
   "nbconvert_exporter": "python",
   "pygments_lexer": "ipython3",
   "version": "3.7.3"
  }
 },
 "nbformat": 4,
 "nbformat_minor": 2
}
